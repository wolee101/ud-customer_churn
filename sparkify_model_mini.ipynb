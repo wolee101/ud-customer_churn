{
 "cells": [
  {
   "cell_type": "markdown",
   "metadata": {},
   "source": [
    "# Sparkify Customer Churn Prediction Project "
   ]
  },
  {
   "cell_type": "markdown",
   "metadata": {},
   "source": [
    "## Overview\n",
    "\n",
    "What is customer churn? Simply put, customer churn is a loss of customers. In the world of business, customer churn is a big concern because it is directly related to profitability. When customers discontinue service or chose a competitor, it leads to decreases in revenue. The bigger problem is to determine the cause of such customer attrition because it is likely to be a combination of multiple factors, not a single cause.\n",
    "\n",
    "It is a challenging problem to predict who will discontinue the relationship with businesses based on the data collected from customers. As is always the case, in any given industry or organization, retaining the existing customers can be much harder than acquiring new ones. Thus, predicting churn rates is important in that the loss doesn’t result in a significant decline in revenues or brand images. \n",
    "\n",
    "In this project, I examined the customer data of Sparkify, online music app service, and built several models to figure out the factors that influence customer churn rates. The best performing model was chosen and tuned for final selection. The dataset was provided by Udacity as part of the Data Science Nanodegree Capstone project. "
   ]
  },
  {
   "cell_type": "code",
   "execution_count": 169,
   "metadata": {
    "scrolled": true
   },
   "outputs": [],
   "source": [
    "# import libraries\n",
    "\n",
    "from pyspark.sql import SparkSession\n",
    "\n",
    "from pyspark.sql.types import IntegerType\n",
    "from pyspark.sql.functions import isnan, count, when, col, desc, udf, col, asc, avg, countDistinct\n",
    "from pyspark.sql.functions import sum as Fsum\n",
    "from pyspark.sql import functions as F\n",
    "from pyspark.sql import Window\n",
    "\n",
    "from pyspark.ml import Pipeline\n",
    "from pyspark.ml.classification import LogisticRegression, RandomForestClassifier, GBTClassifier\n",
    "from pyspark.ml.evaluation import BinaryClassificationEvaluator\n",
    "from pyspark.ml.tuning import CrossValidator, ParamGridBuilder\n",
    "from pyspark.ml.feature import VectorAssembler, StandardScaler\n",
    "from sklearn.metrics import roc_curve\n",
    "\n",
    "import re\n",
    "import datetime\n",
    "import time\n",
    "import pandas as pd\n",
    "\n",
    "%matplotlib inline\n",
    "import matplotlib.pyplot as plt\n",
    "import seaborn as sns"
   ]
  },
  {
   "cell_type": "code",
   "execution_count": 4,
   "metadata": {},
   "outputs": [],
   "source": [
    "# Create spark session\n",
    "\n",
    "spark = SparkSession \\\n",
    "    .builder \\\n",
    "    .appName('Sparkify') \\\n",
    "    .getOrCreate()"
   ]
  },
  {
   "cell_type": "markdown",
   "metadata": {},
   "source": [
    "## Load and Clean Dataset"
   ]
  },
  {
   "cell_type": "code",
   "execution_count": 6,
   "metadata": {},
   "outputs": [
    {
     "name": "stdout",
     "output_type": "stream",
     "text": [
      "root\n",
      " |-- artist: string (nullable = true)\n",
      " |-- auth: string (nullable = true)\n",
      " |-- firstName: string (nullable = true)\n",
      " |-- gender: string (nullable = true)\n",
      " |-- itemInSession: long (nullable = true)\n",
      " |-- lastName: string (nullable = true)\n",
      " |-- length: double (nullable = true)\n",
      " |-- level: string (nullable = true)\n",
      " |-- location: string (nullable = true)\n",
      " |-- method: string (nullable = true)\n",
      " |-- page: string (nullable = true)\n",
      " |-- registration: long (nullable = true)\n",
      " |-- sessionId: long (nullable = true)\n",
      " |-- song: string (nullable = true)\n",
      " |-- status: long (nullable = true)\n",
      " |-- ts: long (nullable = true)\n",
      " |-- userAgent: string (nullable = true)\n",
      " |-- userId: string (nullable = true)\n",
      "\n"
     ]
    }
   ],
   "source": [
    "# Load the full sparkify data\n",
    "\n",
<<<<<<< HEAD
    "user_log = spark.read.json('./mini_sparkify_event_data.json')\n",
=======
    "user_log = spark.read.json('mini_sparkify_event_data.json')\n",
>>>>>>> 7925f6e7fc353df0f020140bb973ca1a003a8860
    "\n",
    "# Check the schema\n",
    "\n",
    "user_log.printSchema()"
   ]
  },
  {
   "cell_type": "markdown",
   "metadata": {},
   "source": [
    "## Preliminary Data Analysis\n",
    "\n",
    "Customer event data was examined and preliminary analyses were performed to examine data for sample size, data fields, distribution of values, missing values, and duplicates. Data abnormalities were looked at and customer churn was defined. For this project, \"Churn\" was defined as a \"Cancellation confirmation\" event, which was used as a grouping variable to draw a comparison between churned and non-churned customers across various predicting features. It was also a label for machine learning models in the model building phase. As can be seen below, slightly under one-forth of customers churned.\n",
    "\n",
    "For featur identification, various customer events that are likely to be related to customer churn rates were examined. The frequency of events was then aggregated or averaged for each user, sometimes over the course of their visits or their entire stay on the site. In addition to the number of songs or days since registration, various events from the \"page\" column were examined and several new variables were created including number of downgrades, number of thumbs ups/downs, and number of friends added."
   ]
  },
  {
   "cell_type": "code",
   "execution_count": 7,
   "metadata": {},
   "outputs": [
    {
     "name": "stdout",
     "output_type": "stream",
     "text": [
      "There are 286500 rows in the dataset.\n",
      "There are 286500 rows after droping duplicate records in the dataset.\n"
     ]
    }
   ],
   "source": [
    "# Check the numbere of rows\n",
    "\n",
    "print(f'There are {user_log.count()} rows in the dataset.')\n",
    "\n",
    "# Drop duplicate rows and check the number of rows again. - no duplicate records\n",
    "\n",
    "user_log = user_log.dropDuplicates()\n",
    "print(f'There are {user_log.count()} rows after droping duplicate records in the dataset.')"
   ]
  },
  {
   "cell_type": "code",
   "execution_count": 8,
   "metadata": {},
   "outputs": [
    {
     "data": {
      "text/plain": [
       "Row(artist='The Futureheads', auth='Logged In', firstName='Ainsley', gender='F', itemInSession=80, lastName='Farley', length=120.81587, level='free', location='McAllen-Edinburg-Mission, TX', method='PUT', page='NextSong', registration=1538304455000, sessionId=187, song='Robot', status=200, ts=1538373133000, userAgent='\"Mozilla/5.0 (Windows NT 6.1; WOW64) AppleWebKit/537.36 (KHTML, like Gecko) Chrome/37.0.2062.94 Safari/537.36\"', userId='78')"
      ]
     },
     "execution_count": 8,
     "metadata": {},
     "output_type": "execute_result"
    }
   ],
   "source": [
    "# Check the data\n",
    "\n",
    "user_log.head()"
   ]
  },
  {
   "cell_type": "code",
   "execution_count": 9,
   "metadata": {},
   "outputs": [
    {
     "name": "stdout",
     "output_type": "stream",
     "text": [
      "+------+---------+---------+-------------+-----+-----+\n",
      "|userId|sessionId|firstname|           ts| page|level|\n",
      "+------+---------+---------+-------------+-----+-----+\n",
      "|      |        8|     null|1538355745000| Home| free|\n",
      "|      |        8|     null|1538355807000| Help| free|\n",
      "|      |        8|     null|1538355841000| Home| free|\n",
      "|      |        8|     null|1538355842000|Login| free|\n",
      "|      |      240|     null|1538356678000| Home| free|\n",
      "|      |      240|     null|1538356679000|Login| free|\n",
      "|      |      100|     null|1538358102000|Login| free|\n",
      "|      |      241|     null|1538360117000|Login| free|\n",
      "|      |      187|     null|1538361527000| Home| free|\n",
      "|      |      187|     null|1538361528000|Login| free|\n",
      "|      |      187|     null|1538362007000| Home| free|\n",
      "|      |      187|     null|1538362095000| Home| free|\n",
      "|      |      187|     null|1538362096000|Login| free|\n",
      "|      |       27|     null|1538363488000| Home| free|\n",
      "|      |       27|     null|1538363494000|About| free|\n",
      "|      |       27|     null|1538363503000| Home| free|\n",
      "|      |      187|     null|1538364254000| Home| free|\n",
      "|      |      187|     null|1538364255000|Login| free|\n",
      "|      |      257|     null|1538364750000| Home| free|\n",
      "|      |      100|     null|1538370681000| Home| free|\n",
      "+------+---------+---------+-------------+-----+-----+\n",
      "only showing top 20 rows\n",
      "\n"
     ]
    }
   ],
   "source": [
    "# Check the rows where user IDs have null values \n",
    "\n",
    "user_log.select(['userId', 'sessionId', 'firstname', 'ts', 'page', 'level']).where(user_log.userId == '').sort('ts').show()"
   ]
  },
  {
   "cell_type": "code",
   "execution_count": 10,
   "metadata": {},
   "outputs": [
    {
     "name": "stdout",
     "output_type": "stream",
     "text": [
      "+------+---------+---------+---+----+-----+\n",
      "|userId|sessionId|firstname| ts|page|level|\n",
      "+------+---------+---------+---+----+-----+\n",
      "+------+---------+---------+---+----+-----+\n",
      "\n"
     ]
    }
   ],
   "source": [
    "# Check the rows where session IDs have null values - No blank session IDs \n",
    "\n",
    "user_log.select([\"userId\", \"sessionId\", \"firstname\", \"ts\", \"page\", \"level\"]).where(user_log.sessionId == '').sort(\"ts\").show()"
   ]
  },
  {
   "cell_type": "code",
   "execution_count": 112,
   "metadata": {},
   "outputs": [
    {
     "name": "stdout",
     "output_type": "stream",
     "text": [
      "+--------------------+------+\n",
      "|                page| count|\n",
      "+--------------------+------+\n",
      "|              Cancel|    52|\n",
      "|    Submit Downgrade|    63|\n",
      "|         Thumbs Down|  2546|\n",
      "|                Home| 14457|\n",
      "|           Downgrade|  2055|\n",
      "|         Roll Advert|  3933|\n",
      "|              Logout|  3226|\n",
      "|       Save Settings|   310|\n",
      "|Cancellation Conf...|    52|\n",
      "|               About|   924|\n",
      "| Submit Registration|     5|\n",
      "|            Settings|  1514|\n",
      "|               Login|  3241|\n",
      "|            Register|    18|\n",
      "|     Add to Playlist|  6526|\n",
      "|          Add Friend|  4277|\n",
      "|            NextSong|228108|\n",
      "|           Thumbs Up| 12551|\n",
      "|                Help|  1726|\n",
      "|             Upgrade|   499|\n",
      "|               Error|   258|\n",
      "|      Submit Upgrade|   159|\n",
      "+--------------------+------+\n",
      "\n"
     ]
    }
   ],
   "source": [
    "# check the page values - Next song is the most frequently visited page \n",
    "\n",
    "user_log.groupby('page').count().show(100)"
   ]
  },
  {
   "cell_type": "code",
   "execution_count": 115,
   "metadata": {},
   "outputs": [
    {
     "name": "stdout",
     "output_type": "stream",
     "text": [
      "Pages NOT visited by blank users are:\n",
      "\n",
      "Cancellation Confirmation\n",
      "Thumbs Down\n",
      "Submit Upgrade\n",
      "Cancel\n",
      "NextSong\n",
      "Save Settings\n",
      "Add Friend\n",
      "Upgrade\n",
      "Roll Advert\n",
      "Submit Downgrade\n",
      "Settings\n",
      "Thumbs Up\n",
      "Add to Playlist\n",
      "Logout\n",
      "Downgrade\n"
     ]
    }
   ],
   "source": [
    "# Filter for users with blank user id\n",
    "\n",
    "blank_pages = user_log.filter(user_log.userId == '') \\\n",
    "    .select(col('page') \\\n",
    "    .alias('blank_pages')) \\\n",
    "    .dropDuplicates()\n",
    "\n",
    "# Get a list of possible pages that could be visited\n",
    "all_pages = user_log.select('page').dropDuplicates()\n",
    "\n",
    "# Find values in all_pages that are not in blank_pages. These are the pages that the blank user did not go to\n",
    "\n",
    "print(f'Pages NOT visited by blank users are:\\n')\n",
    "for row in set(all_pages.collect()) - set(blank_pages.collect()):\n",
    "    print(row.page)"
   ]
  },
  {
   "cell_type": "code",
   "execution_count": 116,
   "metadata": {},
   "outputs": [
    {
     "name": "stdout",
     "output_type": "stream",
     "text": [
      "There are 278154 rows in the dataset after removing blank users.\n"
     ]
    }
   ],
   "source": [
    "# Drop the rows where the userId values are blank\n",
    "\n",
    "user_log_valid = user_log.where(user_log.userId != '')\n",
    "\n",
    "print(f'There are {user_log_valid.count()} rows in the dataset after removing blank users.')"
   ]
  },
  {
   "cell_type": "code",
   "execution_count": 124,
   "metadata": {},
   "outputs": [
    {
     "name": "stdout",
     "output_type": "stream",
     "text": [
      "+--------------------------+\n",
      "|Numeber of unique user IDs|\n",
      "+--------------------------+\n",
      "|                       225|\n",
      "+--------------------------+\n",
      "\n"
     ]
    }
   ],
   "source": [
    "# Check the number of distinct user IDs\n",
    "\n",
    "user_log_valid.select(countDistinct('userId').alias('Numeber of unique user IDs')).show()"
   ]
  },
  {
   "cell_type": "code",
   "execution_count": 125,
   "metadata": {},
   "outputs": [
    {
     "name": "stdout",
     "output_type": "stream",
     "text": [
      "+------+------+\n",
      "|gender| count|\n",
      "+------+------+\n",
      "|     F|154578|\n",
      "|     M|123576|\n",
      "+------+------+\n",
      "\n"
     ]
    }
   ],
   "source": [
    "# Check the gender ratio in activities - not distinct\n",
    "\n",
    "user_log_valid.groupby('gender').count().show()"
   ]
  },
  {
   "cell_type": "code",
   "execution_count": 126,
   "metadata": {},
   "outputs": [
    {
     "name": "stdout",
     "output_type": "stream",
     "text": [
      "+-----+------+\n",
      "|level| count|\n",
      "+-----+------+\n",
      "| free| 55721|\n",
      "| paid|222433|\n",
      "+-----+------+\n",
      "\n"
     ]
    }
   ],
   "source": [
    "# Check customer levels in activities - not distinct\n",
    "\n",
    "user_log_valid.groupby('level').count().show()"
   ]
  },
  {
   "cell_type": "code",
   "execution_count": 127,
   "metadata": {},
   "outputs": [
    {
     "name": "stdout",
     "output_type": "stream",
     "text": [
      "+------+------+\n",
      "|method| count|\n",
      "+------+------+\n",
      "|   PUT|257818|\n",
      "|   GET| 20336|\n",
      "+------+------+\n",
      "\n"
     ]
    }
   ],
   "source": [
    "# Check method - not distinct\n",
    "\n",
    "user_log_valid.groupby('method').count().show()"
   ]
  },
  {
   "cell_type": "code",
   "execution_count": 128,
   "metadata": {},
   "outputs": [
    {
     "name": "stdout",
     "output_type": "stream",
     "text": [
      "+--------------------+-----+\n",
      "|                song|count|\n",
      "+--------------------+-----+\n",
      "|                null|50046|\n",
      "|      You're The One| 1153|\n",
      "|                Undo| 1026|\n",
      "|             Revelry|  854|\n",
      "|       Sehr kosmisch|  728|\n",
      "|Horn Concerto No....|  641|\n",
      "|Dog Days Are Over...|  574|\n",
      "|             Secrets|  466|\n",
      "|        Use Somebody|  459|\n",
      "|              Canada|  435|\n",
      "|             Invalid|  424|\n",
      "|    Ain't Misbehavin|  409|\n",
      "|       ReprÃÂ©sente|  393|\n",
      "|SinceritÃÂ© Et J...|  384|\n",
      "|Catch You Baby (S...|  373|\n",
      "|              Yellow|  343|\n",
      "|    Somebody To Love|  343|\n",
      "|    Hey_ Soul Sister|  334|\n",
      "|            The Gift|  327|\n",
      "|           Fireflies|  312|\n",
      "+--------------------+-----+\n",
      "only showing top 20 rows\n",
      "\n"
     ]
    }
   ],
   "source": [
    "# Find the most heard songs\n",
    "\n",
    "user_log_valid.groupby('song').count().sort(desc('count')).show()"
   ]
  },
  {
   "cell_type": "code",
   "execution_count": 130,
   "metadata": {},
   "outputs": [
    {
     "name": "stdout",
     "output_type": "stream",
     "text": [
      "+--------------------+-----+\n",
      "|              artist|count|\n",
      "+--------------------+-----+\n",
      "|                null|50046|\n",
      "|       Kings Of Leon| 1841|\n",
      "|            Coldplay| 1813|\n",
      "|Florence + The Ma...| 1236|\n",
      "|       Dwight Yoakam| 1135|\n",
      "|            BjÃÂ¶rk| 1133|\n",
      "|      The Black Keys| 1125|\n",
      "|                Muse| 1090|\n",
      "|       Justin Bieber| 1044|\n",
      "|        Jack Johnson| 1007|\n",
      "|              Eminem|  953|\n",
      "|           Radiohead|  884|\n",
      "|     Alliance Ethnik|  876|\n",
      "|               Train|  854|\n",
      "|        Taylor Swift|  840|\n",
      "|         OneRepublic|  828|\n",
      "|         The Killers|  822|\n",
      "|         Linkin Park|  787|\n",
      "|         Evanescence|  781|\n",
      "|            Harmonia|  729|\n",
      "+--------------------+-----+\n",
      "only showing top 20 rows\n",
      "\n"
     ]
    }
   ],
   "source": [
    "# Find the most popular artist\n",
    "\n",
    "user_log_valid.groupby('artist').count().sort(desc('count')).show()"
   ]
  },
  {
   "cell_type": "markdown",
   "metadata": {},
   "source": [
    "## Exploratory Data Analysis\n",
    "\n",
    "A comparison was drawn between the users who churned and stayed on these events to determine if certain user behavior was associated with churning. The features were selected based on the descriptive analyses and group comparison conducted in the feature selection process.\n",
    "\n",
    "Based on group comparisons from exploratory analyses, it is clear that churned users tended to have a shorter stay on the site before they terminated their relationship with Sparkify than non-churned users. Thus, the values on a number of measures were also smaller for churned users, such as number of thumbs ups/downs, number of friends added, and number of errors experienced. The exceptions were the number of songs and average length of stay, which may indicate that churned users were active listeners but decided to cancel their subscription for some reason."
   ]
  },
  {
   "cell_type": "code",
   "execution_count": 131,
   "metadata": {},
   "outputs": [],
   "source": [
    "# Create a copy of user_log_valid df\n",
    "\n",
    "df = user_log_valid "
   ]
  },
  {
   "cell_type": "code",
   "execution_count": 132,
   "metadata": {},
   "outputs": [],
   "source": [
    "# Create a 'churn' column for those who submitted cancellation (1 = churned, 0 = not churned)\n",
    "\n",
    "get_churn = udf(lambda x: 1 if (x == 'Cancellation Confirmation') else 0, IntegerType())\n",
    "df = df.withColumn('churn', get_churn(df.page))"
   ]
  },
  {
   "cell_type": "code",
   "execution_count": 133,
   "metadata": {},
   "outputs": [],
   "source": [
    "# Set the partition and count the number of churn evnets for each user\n",
    "\n",
    "w = Window.partitionBy('userId')\n",
    "df = df.withColumn('churned_user', Fsum('churn').over(w))"
   ]
  },
  {
   "cell_type": "code",
   "execution_count": 134,
   "metadata": {},
   "outputs": [
    {
     "name": "stdout",
     "output_type": "stream",
     "text": [
      "+------------+----------------------+\n",
      "|churned_user|count(DISTINCT userId)|\n",
      "+------------+----------------------+\n",
      "|           0|                   173|\n",
      "|           1|                    52|\n",
      "+------------+----------------------+\n",
      "\n"
     ]
    }
   ],
   "source": [
    "# Churn - imbalanced class\n",
    "\n",
    "df.groupby('churned_user').agg(countDistinct('userId')).show()"
   ]
  },
  {
   "cell_type": "code",
   "execution_count": 135,
   "metadata": {},
   "outputs": [
    {
     "name": "stdout",
     "output_type": "stream",
     "text": [
      "+------------------+-----+------+\n",
      "|churned_user_level| free|  paid|\n",
      "+------------------+-----+------+\n",
      "|                 1|12388| 32476|\n",
      "|                 0|43333|189957|\n",
      "+------------------+-----+------+\n",
      "\n"
     ]
    }
   ],
   "source": [
    "# Churn by level\n",
    "\n",
    "df.crosstab('churned_user', 'level').show()"
   ]
  },
  {
   "cell_type": "code",
   "execution_count": 136,
   "metadata": {},
   "outputs": [
    {
     "name": "stdout",
     "output_type": "stream",
     "text": [
      "+-------------------+-----+------+\n",
      "|churned_user_method|  GET|   PUT|\n",
      "+-------------------+-----+------+\n",
      "|                  1| 3737| 41127|\n",
      "|                  0|16599|216691|\n",
      "+-------------------+-----+------+\n",
      "\n"
     ]
    }
   ],
   "source": [
    "# Churn by method\n",
    "\n",
    "df.crosstab('churned_user', 'method').show()                                   "
   ]
  },
  {
   "cell_type": "code",
   "execution_count": 137,
   "metadata": {},
   "outputs": [
    {
     "name": "stdout",
     "output_type": "stream",
     "text": [
      "+-------------------+------+-----+---+\n",
      "|churned_user_status|   200|  307|404|\n",
      "+-------------------+------+-----+---+\n",
      "|                  1| 41137| 3695| 32|\n",
      "|                  0|213581|19489|220|\n",
      "+-------------------+------+-----+---+\n",
      "\n"
     ]
    }
   ],
   "source": [
    "# Churn by status\n",
    "\n",
    "df.crosstab('churned_user', 'status').show()"
   ]
  },
  {
   "cell_type": "code",
   "execution_count": 138,
   "metadata": {},
   "outputs": [
    {
     "name": "stdout",
     "output_type": "stream",
     "text": [
      "+------------+------------------+\n",
      "|churned_user| avg(num_sessions)|\n",
      "+------------+------------------+\n",
      "|           0|2846.5366710960607|\n",
      "|           1|1688.4626426533523|\n",
      "+------------+------------------+\n",
      "\n"
     ]
    }
   ],
   "source": [
    "# Create a 'session' and 'num_sessions' columns -\n",
    "# significantly higher number of sessions for churned users possibly because churned users didn't stay too long before they cancel service\n",
    "\n",
    "get_session = udf(lambda x: 1 if pd.isnull(x) == False else 0, IntegerType())\n",
    "df = df.withColumn('session', get_session(df.sessionId)).withColumn('num_sessions', Fsum('session').over(w))\n",
    "df.groupby('churned_user').agg({'num_sessions':'avg'}).show()"
   ]
  },
  {
   "cell_type": "code",
   "execution_count": 139,
   "metadata": {},
   "outputs": [],
   "source": [
    "# Create a 'song_played' and a 'num_songs' column and compute the total number of songs played for each user\n",
    "# Create a 'avg_num_songs' for an average number of songs played by each user\n",
    "\n",
    "get_song = udf(lambda x: 1 if pd.isnull(x) == False else 0, IntegerType())\n",
    "df = df.withColumn('song_played', get_song(df.song)).withColumn('num_songs', Fsum('song_played').over(w))\n",
    "df = df.withColumn('avg_num_songs', (df.num_songs/df.num_sessions))"
   ]
  },
  {
   "cell_type": "code",
   "execution_count": 140,
   "metadata": {},
   "outputs": [
    {
     "name": "stdout",
     "output_type": "stream",
     "text": [
      "+------------+------------------+\n",
      "|churned_user|    avg(num_songs)|\n",
      "+------------+------------------+\n",
      "|           0| 2351.172532041665|\n",
      "|           1|1391.8001961483594|\n",
      "+------------+------------------+\n",
      "\n"
     ]
    }
   ],
   "source": [
    "# Check churn by number of songs played  - slightly higher number of songs played for churned users\n",
    "\n",
    "df.groupby('churned_user').agg({'num_songs':'avg'}).show()"
   ]
  },
  {
   "cell_type": "code",
   "execution_count": 141,
   "metadata": {},
   "outputs": [
    {
     "name": "stdout",
     "output_type": "stream",
     "text": [
      "+------------+------------------+\n",
      "|churned_user|avg(avg_num_songs)|\n",
      "+------------+------------------+\n",
      "|           0|0.8217840456084584|\n",
      "|           1|0.8112072039942954|\n",
      "+------------+------------------+\n",
      "\n"
     ]
    }
   ],
   "source": [
    "# Check churn by number of songs played per session - similar number of songs played per session\n",
    "\n",
    "df.groupby('churned_user').agg({'avg_num_songs':'avg'}).show()"
   ]
  },
  {
   "cell_type": "code",
   "execution_count": 142,
   "metadata": {},
   "outputs": [
    {
     "name": "stdout",
     "output_type": "stream",
     "text": [
      "+------------+-------------------+\n",
      "|churned_user|avg(num_thumbs_ups)|\n",
      "+------------+-------------------+\n",
      "|           0| 131.41354108620172|\n",
      "|           1|  72.87537892296719|\n",
      "+------------+-------------------+\n",
      "\n"
     ]
    }
   ],
   "source": [
    "# Create a 'thumbs up' and a 'num_thumbs_ups' column and check churn by number of thumbs up -\n",
    "# lower average number of thumbs up for churned users\n",
    "\n",
    "get_thumbs_up = udf(lambda x: 1 if x == 'Thumbs Up' else 0, IntegerType())\n",
    "df = df.withColumn('thumbs_up', get_thumbs_up(df.page)).withColumn('num_thumbs_ups', Fsum('thumbs_up').over(w))\n",
    "df.groupby('churned_user').agg({'num_thumbs_ups':'avg'}).show() "
   ]
  },
  {
   "cell_type": "code",
   "execution_count": 143,
   "metadata": {},
   "outputs": [
    {
     "name": "stdout",
     "output_type": "stream",
     "text": [
      "+------------+---------------------+\n",
      "|churned_user|avg(num_thumbs_downs)|\n",
      "+------------+---------------------+\n",
      "|           0|   24.689022246988728|\n",
      "|           1|   16.250312054208273|\n",
      "+------------+---------------------+\n",
      "\n"
     ]
    }
   ],
   "source": [
    "# Create a 'thumbs down' and a 'num_thumbs_downs' column and check churn by number of thumbs down - \n",
    "# slightly higher average number of thumbs downs for churned users\n",
    "\n",
    "get_thumbs_down = udf(lambda x: 1 if x == 'Thumbs Down' else 0, IntegerType())\n",
    "df = df.withColumn('thumbs_down', get_thumbs_down(df.page)).withColumn('num_thumbs_downs', Fsum('thumbs_down').over(w))\n",
    "df.groupby('churned_user').agg({'num_thumbs_downs':'avg'}).show() "
   ]
  },
  {
   "cell_type": "code",
   "execution_count": 144,
   "metadata": {},
   "outputs": [
    {
     "name": "stdout",
     "output_type": "stream",
     "text": [
      "+------------+------------------+\n",
      "|churned_user|    avg(num_helps)|\n",
      "+------------+------------------+\n",
      "|           0|14.607805735350851|\n",
      "|           1| 9.403151747503566|\n",
      "+------------+------------------+\n",
      "\n"
     ]
    }
   ],
   "source": [
    "# Create a 'help' and a 'num_helps\" column and compute the total number of help site visited -\n",
    "# significantly higher number of help site visits for churned users\n",
    "\n",
    "get_help = udf(lambda x: 1 if x == 'Help' else 0, IntegerType())\n",
    "df = df.withColumn('help', get_help(df.page)).withColumn('num_helps', Fsum('help').over(w))\n",
    "df.groupby('churned_user').agg({'num_helps': 'avg'}).show()"
   ]
  },
  {
   "cell_type": "code",
   "execution_count": 145,
   "metadata": {},
   "outputs": [
    {
     "name": "stdout",
     "output_type": "stream",
     "text": [
      "+------------+------------------+\n",
      "|churned_user|   avg(num_errors)|\n",
      "+------------+------------------+\n",
      "|           0|2.4735736636803978|\n",
      "|           1| 0.964269793152639|\n",
      "+------------+------------------+\n",
      "\n"
     ]
    }
   ],
   "source": [
    "# Create an 'error' and a 'num_error\" column and compute the total number of error pages -\n",
    "# significantly higher number of errors for churned users\n",
    "\n",
    "get_error = udf(lambda x: 1 if x == 'Error' else 0, IntegerType())\n",
    "df = df.withColumn('error', get_error(df.page)).withColumn('num_errors', Fsum('error').over(w))\n",
    "df.groupby('churned_user').agg({'num_errors': 'avg'}).show()"
   ]
  },
  {
   "cell_type": "code",
   "execution_count": 146,
   "metadata": {},
   "outputs": [
    {
     "name": "stdout",
     "output_type": "stream",
     "text": [
      "+------------+-----------------+\n",
      "|churned_user| avg(num_friends)|\n",
      "+------------+-----------------+\n",
      "|           0|43.40248617600412|\n",
      "|           1|21.83285039229672|\n",
      "+------------+-----------------+\n",
      "\n"
     ]
    }
   ],
   "source": [
    "# Create a 'friend' and a 'num_friends' column and compute the total number of friends added by each user - \n",
    "# Slightly higher number of friends added\n",
    "\n",
    "get_friend = udf(lambda x: 1 if x == 'Add Friend' else 0, IntegerType())\n",
    "df = df.withColumn('friend', get_friend(df.page)).withColumn('num_friends', Fsum('friend').over(w))\n",
    "df.groupby('churned_user').agg({'num_friends': 'avg'}).show()"
   ]
  },
  {
   "cell_type": "code",
   "execution_count": 147,
   "metadata": {},
   "outputs": [
    {
     "name": "stdout",
     "output_type": "stream",
     "text": [
      "+------------+-----------------+\n",
      "|churned_user|  avg(cum_length)|\n",
      "+------------+-----------------+\n",
      "|           0|585964.0194576412|\n",
      "|           1|   346188.5845744|\n",
      "+------------+-----------------+\n",
      "\n"
     ]
    }
   ],
   "source": [
    "# Create a 'cum_length' column and find the cumulative length of stay by churn - similar cumulative length\n",
    "\n",
    "df = df.withColumn('cum_length', Fsum('length').over(w))\n",
    "df.groupby('churned_user').agg({'cum_length': 'avg'}).show()"
   ]
  },
  {
   "cell_type": "code",
   "execution_count": 148,
   "metadata": {},
   "outputs": [
    {
     "name": "stdout",
     "output_type": "stream",
     "text": [
      "+------------+------------------+\n",
      "|churned_user|   avg(avg_length)|\n",
      "+------------+------------------+\n",
      "|           0|249.20074452246993|\n",
      "|           1| 248.6158962424507|\n",
      "+------------+------------------+\n",
      "\n"
     ]
    }
   ],
   "source": [
    "# Create a 'avg_length' column and check churn by the average length of stay by churn - similar length\n",
    "\n",
    "df = df.withColumn('avg_length', avg('length').over(w))\n",
    "df.groupby('churned_user').agg({'avg_length': 'avg'}).show()"
   ]
  },
  {
   "cell_type": "code",
   "execution_count": 149,
   "metadata": {},
   "outputs": [],
   "source": [
    "# Create a 'downgraded' and a 'num_downgrades' column\n",
    "\n",
    "get_downgrade = udf(lambda x: 1 if x == 'Submit Downgrade' else 0, IntegerType())\n",
    "df = df.withColumn('downgraded', get_downgrade('page')).withColumn('num_downgrades', Fsum('downgraded').over(w))"
   ]
  },
  {
   "cell_type": "code",
   "execution_count": 150,
   "metadata": {},
   "outputs": [
    {
     "name": "stdout",
     "output_type": "stream",
     "text": [
      "+-------------------+-------------------+-------------------+\n",
      "|min(num_downgrades)|max(num_downgrades)|avg(num_downgrades)|\n",
      "+-------------------+-------------------+-------------------+\n",
      "|                  0|                  3| 0.5788807638933828|\n",
      "+-------------------+-------------------+-------------------+\n",
      "\n"
     ]
    }
   ],
   "source": [
    "# Check the range and mean of the num_downgrade column\n",
    "\n",
    "df.agg(F.min(df.num_downgrades), F.max(df.num_downgrades), F.avg(df.num_downgrades)).show()"
   ]
  },
  {
   "cell_type": "code",
   "execution_count": 151,
   "metadata": {},
   "outputs": [
    {
     "name": "stdout",
     "output_type": "stream",
     "text": [
      "+---------------------------+------+-----+-----+-----+\n",
      "|churned_user_num_downgrades|     0|    1|    2|    3|\n",
      "+---------------------------+------+-----+-----+-----+\n",
      "|                          1| 33763|11101|    0|    0|\n",
      "|                          0|137739|57697|21342|16512|\n",
      "+---------------------------+------+-----+-----+-----+\n",
      "\n"
     ]
    }
   ],
   "source": [
    "# Churn by num_downgrade\n",
    "\n",
    "df.crosstab('churned_user', 'num_downgrades').show()"
   ]
  },
  {
   "cell_type": "code",
   "execution_count": 152,
   "metadata": {},
   "outputs": [],
   "source": [
    "# Convert timestamp to date and create a 'date' and a 'registration' column\n",
    "\n",
    "get_date = udf(lambda x : datetime.datetime.fromtimestamp(x/1000.0).strftime('%Y-%m-%d %H:%M:%S'))\n",
    "\n",
    "df = df.withColumn('date', get_date(df.ts))\n",
    "df = df.withColumn('registration_date', get_date(df.registration))"
   ]
  },
  {
   "cell_type": "code",
   "execution_count": 153,
   "metadata": {},
   "outputs": [
    {
     "name": "stdout",
     "output_type": "stream",
     "text": [
      "+------------+------------------+\n",
      "|churned_user|avg(duration_days)|\n",
      "+------------+------------------+\n",
      "|           0| 67.15457731455682|\n",
      "|           1|52.654033134244024|\n",
      "+------------+------------------+\n",
      "\n"
     ]
    }
   ],
   "source": [
    "# Create a 'duration' and a 'durantion_days' column for the time between the registration and last recorded dates - \n",
    "# fewer number of days for churned users\n",
    "\n",
    "df = df.withColumn('duration', (df['ts']-df['registration']))\n",
    "df = df.withColumn('duration_days', (df['duration']/1000/3600/24))\n",
    "df.groupby('churned_user').agg({'duration_days':'avg'}).show()"
   ]
  },
  {
   "cell_type": "markdown",
   "metadata": {},
   "source": [
    "## Feature Engineering\n",
    "\n",
    "A total of nine numeric features were extracted to build the model. The churn label for prediction was created from the “cancellation submission” event. Group differences are visualized below. They were:\n",
    "\n",
    "- Average number of songs\n",
    "- Average length of stay\n",
    "- Number of helps\n",
    "- Number of errors\n",
    "- Number of thumbs up\n",
    "- Number of thumbs down\n",
    "- Number of friends added\n",
    "- Number of downgrades"
   ]
  },
  {
   "cell_type": "code",
   "execution_count": 157,
   "metadata": {},
   "outputs": [
    {
     "name": "stdout",
     "output_type": "stream",
     "text": [
      "There are 225 rows in the wide format.\n"
     ]
    }
   ],
   "source": [
    "# Create a dataframe that is in wide format with no duplicates - order by date (descending) and select the first row\n",
    "# This will give the latest status of users \n",
    "\n",
    "df_nd = df.select(['userId', 'avg_num_songs', 'avg_length', 'num_helps', 'num_errors', \\\n",
    "                    'num_thumbs_ups', 'num_thumbs_downs', 'num_friends','num_downgrades', \\\n",
    "                    'duration_days', 'churned_user'])\\\n",
    "                    .orderBy(asc('userId'), desc('duration_days')).dropDuplicates(subset = ['userId']).drop('userId')\n",
    "\n",
    "print(f'There are {df_nd.count()} rows in the wide format.')"
   ]
  },
  {
   "cell_type": "code",
   "execution_count": 233,
   "metadata": {},
   "outputs": [
    {
     "data": {
      "text/html": [
       "<div>\n",
       "<style scoped>\n",
       "    .dataframe tbody tr th:only-of-type {\n",
       "        vertical-align: middle;\n",
       "    }\n",
       "\n",
       "    .dataframe tbody tr th {\n",
       "        vertical-align: top;\n",
       "    }\n",
       "\n",
       "    .dataframe thead th {\n",
       "        text-align: right;\n",
       "    }\n",
       "</style>\n",
       "<table border=\"1\" class=\"dataframe\">\n",
       "  <thead>\n",
       "    <tr style=\"text-align: right;\">\n",
       "      <th></th>\n",
       "      <th>avg_num_songs</th>\n",
       "      <th>avg_length</th>\n",
       "      <th>num_helps</th>\n",
       "      <th>num_errors</th>\n",
       "      <th>num_thumbs_ups</th>\n",
       "      <th>num_thumbs_downs</th>\n",
       "      <th>num_friends</th>\n",
       "      <th>num_downgrades</th>\n",
       "      <th>duration_days</th>\n",
       "      <th>churned_user</th>\n",
       "    </tr>\n",
       "  </thead>\n",
       "  <tbody>\n",
       "    <tr>\n",
       "      <td>0</td>\n",
       "      <td>0.721785</td>\n",
       "      <td>243.421445</td>\n",
       "      <td>2</td>\n",
       "      <td>0</td>\n",
       "      <td>17</td>\n",
       "      <td>5</td>\n",
       "      <td>4</td>\n",
       "      <td>0</td>\n",
       "      <td>55.643657</td>\n",
       "      <td>0</td>\n",
       "    </tr>\n",
       "    <tr>\n",
       "      <td>1</td>\n",
       "      <td>0.816456</td>\n",
       "      <td>242.916992</td>\n",
       "      <td>2</td>\n",
       "      <td>0</td>\n",
       "      <td>21</td>\n",
       "      <td>6</td>\n",
       "      <td>4</td>\n",
       "      <td>0</td>\n",
       "      <td>70.074630</td>\n",
       "      <td>0</td>\n",
       "    </tr>\n",
       "    <tr>\n",
       "      <td>2</td>\n",
       "      <td>0.727273</td>\n",
       "      <td>261.139138</td>\n",
       "      <td>0</td>\n",
       "      <td>0</td>\n",
       "      <td>0</td>\n",
       "      <td>0</td>\n",
       "      <td>0</td>\n",
       "      <td>0</td>\n",
       "      <td>71.316887</td>\n",
       "      <td>1</td>\n",
       "    </tr>\n",
       "    <tr>\n",
       "      <td>3</td>\n",
       "      <td>0.845389</td>\n",
       "      <td>248.176537</td>\n",
       "      <td>23</td>\n",
       "      <td>6</td>\n",
       "      <td>171</td>\n",
       "      <td>41</td>\n",
       "      <td>74</td>\n",
       "      <td>0</td>\n",
       "      <td>131.555914</td>\n",
       "      <td>0</td>\n",
       "    </tr>\n",
       "    <tr>\n",
       "      <td>4</td>\n",
       "      <td>0.856737</td>\n",
       "      <td>247.880551</td>\n",
       "      <td>12</td>\n",
       "      <td>1</td>\n",
       "      <td>100</td>\n",
       "      <td>21</td>\n",
       "      <td>28</td>\n",
       "      <td>0</td>\n",
       "      <td>19.455845</td>\n",
       "      <td>1</td>\n",
       "    </tr>\n",
       "    <tr>\n",
       "      <td>...</td>\n",
       "      <td>...</td>\n",
       "      <td>...</td>\n",
       "      <td>...</td>\n",
       "      <td>...</td>\n",
       "      <td>...</td>\n",
       "      <td>...</td>\n",
       "      <td>...</td>\n",
       "      <td>...</td>\n",
       "      <td>...</td>\n",
       "      <td>...</td>\n",
       "    </tr>\n",
       "    <tr>\n",
       "      <td>220</td>\n",
       "      <td>0.835586</td>\n",
       "      <td>247.397727</td>\n",
       "      <td>5</td>\n",
       "      <td>0</td>\n",
       "      <td>67</td>\n",
       "      <td>13</td>\n",
       "      <td>22</td>\n",
       "      <td>0</td>\n",
       "      <td>81.083183</td>\n",
       "      <td>0</td>\n",
       "    </tr>\n",
       "    <tr>\n",
       "      <td>221</td>\n",
       "      <td>0.821429</td>\n",
       "      <td>230.826308</td>\n",
       "      <td>1</td>\n",
       "      <td>0</td>\n",
       "      <td>3</td>\n",
       "      <td>2</td>\n",
       "      <td>0</td>\n",
       "      <td>0</td>\n",
       "      <td>87.793368</td>\n",
       "      <td>0</td>\n",
       "    </tr>\n",
       "    <tr>\n",
       "      <td>222</td>\n",
       "      <td>0.816911</td>\n",
       "      <td>245.084067</td>\n",
       "      <td>4</td>\n",
       "      <td>1</td>\n",
       "      <td>55</td>\n",
       "      <td>35</td>\n",
       "      <td>19</td>\n",
       "      <td>0</td>\n",
       "      <td>70.664572</td>\n",
       "      <td>1</td>\n",
       "    </tr>\n",
       "    <tr>\n",
       "      <td>223</td>\n",
       "      <td>0.775785</td>\n",
       "      <td>258.485256</td>\n",
       "      <td>3</td>\n",
       "      <td>1</td>\n",
       "      <td>7</td>\n",
       "      <td>1</td>\n",
       "      <td>4</td>\n",
       "      <td>0</td>\n",
       "      <td>188.859271</td>\n",
       "      <td>0</td>\n",
       "    </tr>\n",
       "    <tr>\n",
       "      <td>224</td>\n",
       "      <td>0.711230</td>\n",
       "      <td>263.712347</td>\n",
       "      <td>1</td>\n",
       "      <td>1</td>\n",
       "      <td>8</td>\n",
       "      <td>2</td>\n",
       "      <td>2</td>\n",
       "      <td>0</td>\n",
       "      <td>44.800220</td>\n",
       "      <td>1</td>\n",
       "    </tr>\n",
       "  </tbody>\n",
       "</table>\n",
       "<p>225 rows × 10 columns</p>\n",
       "</div>"
      ],
      "text/plain": [
       "     avg_num_songs  avg_length  num_helps  num_errors  num_thumbs_ups  \\\n",
       "0         0.721785  243.421445          2           0              17   \n",
       "1         0.816456  242.916992          2           0              21   \n",
       "2         0.727273  261.139138          0           0               0   \n",
       "3         0.845389  248.176537         23           6             171   \n",
       "4         0.856737  247.880551         12           1             100   \n",
       "..             ...         ...        ...         ...             ...   \n",
       "220       0.835586  247.397727          5           0              67   \n",
       "221       0.821429  230.826308          1           0               3   \n",
       "222       0.816911  245.084067          4           1              55   \n",
       "223       0.775785  258.485256          3           1               7   \n",
       "224       0.711230  263.712347          1           1               8   \n",
       "\n",
       "     num_thumbs_downs  num_friends  num_downgrades  duration_days  \\\n",
       "0                   5            4               0      55.643657   \n",
       "1                   6            4               0      70.074630   \n",
       "2                   0            0               0      71.316887   \n",
       "3                  41           74               0     131.555914   \n",
       "4                  21           28               0      19.455845   \n",
       "..                ...          ...             ...            ...   \n",
       "220                13           22               0      81.083183   \n",
       "221                 2            0               0      87.793368   \n",
       "222                35           19               0      70.664572   \n",
       "223                 1            4               0     188.859271   \n",
       "224                 2            2               0      44.800220   \n",
       "\n",
       "     churned_user  \n",
       "0               0  \n",
       "1               0  \n",
       "2               1  \n",
       "3               0  \n",
       "4               1  \n",
       "..            ...  \n",
       "220             0  \n",
       "221             0  \n",
       "222             1  \n",
       "223             0  \n",
       "224             1  \n",
       "\n",
       "[225 rows x 10 columns]"
      ]
     },
     "execution_count": 233,
     "metadata": {},
     "output_type": "execute_result"
    }
   ],
   "source": [
    "# Check data fields\n",
    "\n",
    "df_nd.toPandas()"
   ]
  },
  {
   "cell_type": "code",
   "execution_count": 230,
   "metadata": {},
   "outputs": [
    {
     "data": {
      "text/html": [
       "<div>\n",
       "<style scoped>\n",
       "    .dataframe tbody tr th:only-of-type {\n",
       "        vertical-align: middle;\n",
       "    }\n",
       "\n",
       "    .dataframe tbody tr th {\n",
       "        vertical-align: top;\n",
       "    }\n",
       "\n",
       "    .dataframe thead th {\n",
       "        text-align: right;\n",
       "    }\n",
       "</style>\n",
       "<table border=\"1\" class=\"dataframe\">\n",
       "  <thead>\n",
       "    <tr style=\"text-align: right;\">\n",
       "      <th></th>\n",
       "      <th>summary</th>\n",
       "      <th>avg_num_songs</th>\n",
       "      <th>avg_length</th>\n",
       "      <th>num_helps</th>\n",
       "      <th>num_errors</th>\n",
       "      <th>num_thumbs_ups</th>\n",
       "      <th>num_thumbs_downs</th>\n",
       "      <th>num_friends</th>\n",
       "      <th>num_downgrades</th>\n",
       "      <th>duration_days</th>\n",
       "      <th>churned_user</th>\n",
       "    </tr>\n",
       "  </thead>\n",
       "  <tbody>\n",
       "    <tr>\n",
       "      <td>0</td>\n",
       "      <td>count</td>\n",
       "      <td>225</td>\n",
       "      <td>225</td>\n",
       "      <td>225</td>\n",
       "      <td>225</td>\n",
       "      <td>225</td>\n",
       "      <td>225</td>\n",
       "      <td>225</td>\n",
       "      <td>225</td>\n",
       "      <td>225</td>\n",
       "      <td>225</td>\n",
       "    </tr>\n",
       "    <tr>\n",
       "      <td>1</td>\n",
       "      <td>mean</td>\n",
       "      <td>0.7953915520889338</td>\n",
       "      <td>248.94864818036015</td>\n",
       "      <td>6.4622222222222225</td>\n",
       "      <td>1.12</td>\n",
       "      <td>55.782222222222224</td>\n",
       "      <td>11.315555555555555</td>\n",
       "      <td>19.00888888888889</td>\n",
       "      <td>0.28</td>\n",
       "      <td>79.84568348765428</td>\n",
       "      <td>0.2311111111111111</td>\n",
       "    </tr>\n",
       "    <tr>\n",
       "      <td>2</td>\n",
       "      <td>stddev</td>\n",
       "      <td>0.058145524939574</td>\n",
       "      <td>5.941825608917774</td>\n",
       "      <td>7.2425851519011974</td>\n",
       "      <td>1.4726070176973318</td>\n",
       "      <td>65.47792460907043</td>\n",
       "      <td>13.077481251105503</td>\n",
       "      <td>20.581716728496275</td>\n",
       "      <td>0.5876709477736184</td>\n",
       "      <td>37.66147001861255</td>\n",
       "      <td>0.4224832108996327</td>\n",
       "    </tr>\n",
       "    <tr>\n",
       "      <td>3</td>\n",
       "      <td>min</td>\n",
       "      <td>0.4782608695652174</td>\n",
       "      <td>225.18811730769232</td>\n",
       "      <td>0</td>\n",
       "      <td>0</td>\n",
       "      <td>0</td>\n",
       "      <td>0</td>\n",
       "      <td>0</td>\n",
       "      <td>0</td>\n",
       "      <td>0.31372685185185184</td>\n",
       "      <td>0</td>\n",
       "    </tr>\n",
       "    <tr>\n",
       "      <td>4</td>\n",
       "      <td>max</td>\n",
       "      <td>1.0</td>\n",
       "      <td>267.767142</td>\n",
       "      <td>46</td>\n",
       "      <td>7</td>\n",
       "      <td>437</td>\n",
       "      <td>75</td>\n",
       "      <td>143</td>\n",
       "      <td>3</td>\n",
       "      <td>256.3776736111111</td>\n",
       "      <td>1</td>\n",
       "    </tr>\n",
       "  </tbody>\n",
       "</table>\n",
       "</div>"
      ],
      "text/plain": [
       "  summary       avg_num_songs          avg_length           num_helps  \\\n",
       "0   count                 225                 225                 225   \n",
       "1    mean  0.7953915520889338  248.94864818036015  6.4622222222222225   \n",
       "2  stddev   0.058145524939574   5.941825608917774  7.2425851519011974   \n",
       "3     min  0.4782608695652174  225.18811730769232                   0   \n",
       "4     max                 1.0          267.767142                  46   \n",
       "\n",
       "           num_errors      num_thumbs_ups    num_thumbs_downs  \\\n",
       "0                 225                 225                 225   \n",
       "1                1.12  55.782222222222224  11.315555555555555   \n",
       "2  1.4726070176973318   65.47792460907043  13.077481251105503   \n",
       "3                   0                   0                   0   \n",
       "4                   7                 437                  75   \n",
       "\n",
       "          num_friends      num_downgrades        duration_days  \\\n",
       "0                 225                 225                  225   \n",
       "1   19.00888888888889                0.28    79.84568348765428   \n",
       "2  20.581716728496275  0.5876709477736184    37.66147001861255   \n",
       "3                   0                   0  0.31372685185185184   \n",
       "4                 143                   3    256.3776736111111   \n",
       "\n",
       "         churned_user  \n",
       "0                 225  \n",
       "1  0.2311111111111111  \n",
       "2  0.4224832108996327  \n",
       "3                   0  \n",
       "4                   1  "
      ]
     },
     "execution_count": 230,
     "metadata": {},
     "output_type": "execute_result"
    }
   ],
   "source": [
    "# Check basic statistics\n",
    "\n",
    "df_nd.describe().toPandas()"
   ]
  },
  {
   "cell_type": "code",
   "execution_count": 64,
   "metadata": {},
   "outputs": [
    {
     "name": "stdout",
     "output_type": "stream",
     "text": [
      "+------+----+------+-----+-------------+----------+---------+----------+--------------+----------------+-----------+--------------+-------------+------------+\n",
      "|userId|date|gender|level|avg_num_songs|avg_length|num_helps|num_errors|num_thumbs_ups|num_thumbs_downs|num_friends|num_downgrades|duration_days|churned_user|\n",
      "+------+----+------+-----+-------------+----------+---------+----------+--------------+----------------+-----------+--------------+-------------+------------+\n",
      "|     0|   0|     0|    0|            0|         0|        0|         0|             0|               0|          0|             0|            0|           0|\n",
      "+------+----+------+-----+-------------+----------+---------+----------+--------------+----------------+-----------+--------------+-------------+------------+\n",
      "\n"
     ]
    }
   ],
   "source": [
    "# Check if there are any null values - No null values\n",
    "\n",
    "df_nd.select([count(when(isnan(c), c)).alias(c) for c in df_nd.columns]).show()"
   ]
  },
  {
   "cell_type": "code",
   "execution_count": 52,
   "metadata": {},
   "outputs": [
    {
     "data": {
      "image/png": "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\n",
      "text/plain": [
       "<Figure size 432x288 with 1 Axes>"
      ]
     },
     "metadata": {
      "needs_background": "light"
     },
     "output_type": "display_data"
    }
   ],
   "source": [
    "# Compare churned vs non-churned users by gender - similar churn rates for both genders \n",
    "\n",
    "gender_churn = df_nd.select('userId','gender','churned_user').toPandas()\n",
    "ax1 = sns.countplot(x = 'gender', hue = 'churned_user', data = gender_churn)\n",
    "ax1.set(xlabel = 'Gender of Users', ylabel = 'Number of Users', title = 'Comparison of Churned vs Non-Churned Users by Gender')\n",
    "plt.show();"
   ]
  },
  {
   "cell_type": "code",
   "execution_count": 53,
   "metadata": {},
   "outputs": [
    {
     "data": {
      "image/png": "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\n",
      "text/plain": [
       "<Figure size 432x288 with 1 Axes>"
      ]
     },
     "metadata": {
      "needs_background": "light"
     },
     "output_type": "display_data"
    }
   ],
   "source": [
    "# Compare churned vs non-churned users by level - higher churn rate for free level, expected\n",
    "\n",
    "level_churn = df_nd.select('userId','level','churned_user').toPandas()\n",
    "ax2 = sns.countplot(x = 'level', hue = 'churned_user', data = level_churn)\n",
    "ax2.set(xlabel = 'Level', ylabel='Number of Users', title = 'Comparison of Churned vs Non-Churned Users by Level')\n",
    "plt.show();"
   ]
  },
  {
   "cell_type": "code",
   "execution_count": 54,
   "metadata": {},
   "outputs": [
    {
     "data": {
      "image/png": "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\n",
      "text/plain": [
       "<Figure size 432x288 with 1 Axes>"
      ]
     },
     "metadata": {
      "needs_background": "light"
     },
     "output_type": "display_data"
    }
   ],
   "source": [
    "# Compare churned vs non-churned users by number of songs played - not much difference\n",
    "\n",
    "song_churn = df_nd.select('userId','avg_num_songs','churned_user').toPandas()\n",
    "ax3 = sns.barplot(x = 'churned_user', y = 'avg_num_songs', data = song_churn)\n",
    "ax3.set(xlabel = 'Churned Status', ylabel = 'Average Number of Songs', title = 'Comparison of Churned vs Non-Churned Users by Number of Songs Played Per Session')\n",
    "plt.show();"
   ]
  },
  {
   "cell_type": "code",
   "execution_count": 56,
   "metadata": {},
   "outputs": [
    {
     "data": {
      "image/png": "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\n",
      "text/plain": [
       "<Figure size 432x288 with 1 Axes>"
      ]
     },
     "metadata": {
      "needs_background": "light"
     },
     "output_type": "display_data"
    }
   ],
   "source": [
    "# Compare churned vs non-churned users by average length of stay - not much difference\n",
    "\n",
    "length_churn = df_nd.select('userId','avg_length','churned_user').toPandas()\n",
    "ax4 = sns.barplot(x = 'churned_user', y = 'avg_length', data = length_churn)\n",
    "ax4.set(xlabel = 'Churned Status', ylabel = 'Average Length of Stay', title = 'Comparison of Churned vs Non-Churned Users by Average Length of Stay')\n",
    "plt.show();"
   ]
  },
  {
   "cell_type": "code",
   "execution_count": 55,
   "metadata": {},
   "outputs": [
    {
     "data": {
      "image/png": "iVBORw0KGgoAAAANSUhEUgAAAcwAAAEWCAYAAADrfqfPAAAABHNCSVQICAgIfAhkiAAAAAlwSFlzAAALEgAACxIB0t1+/AAAADl0RVh0U29mdHdhcmUAbWF0cGxvdGxpYiB2ZXJzaW9uIDIuMi40LCBodHRwOi8vbWF0cGxvdGxpYi5vcmcv7US4rQAAIABJREFUeJzt3Xu4VVW9//H3R/B+NygTQVCxQu1o7qxzLDXTRDt5S39ZetKy7KInTUvNPGpYWVjZ6aQVFSctk9RuVJSVpmV5AZU0KI6IKFskUbyL6Nbv748xlkyWa681Ya+599rweT3PfvaaY44xx5jX77xPRQRmZmbW3FoD3QAzM7PBwAHTzMysBAdMMzOzEhwwzczMSnDANDMzK8EB08zMrITVOmBKOkrSbwe6HTWS1pf0C0mPSbpyFcqPlhSShlbRvr6S9D1Jnx3odvQnSedK+sFAt6M3eXnZfqDbUVanL+PNSNpbUvcA1n+opAWSnpS060C1Y6BVuR0qFTAlvUfSjDwjHpD0a0lvqqJB7RQRl0XE2wa6HQWHA68AXhYRRzTKIGkHSVdKeigH1jsknSJpSP82tTPljemdktYqpH1W0vcqrHNQLv+tSJovad+6tGMl3TBQbWqnvDMTko4opA3NaaMHrmWV+RJwYkRsFBG31/fM4/1UXo4flnSNpHcNQDsHrZYBU9IpwFeBz5M29qOAi4GDq21a33ToHuo2wP9FRE+jnpK2A24GFgA7R8SmwBFAF7BxOxvSodOnrK2AI/ujov5c/gf5POnVAI/XEmDCYNvhXMVptg0wq0Wef4mIjYBXAd8Dvi7pnFWoq1903DoREb3+AZsCTwJHNMmzLmmDsjD/fRVYN/fbG+gGTgMeBB4ADgEOBP6PtDCfWRjWucBVwI+AJ4DbSDO41v8M4O7cbzZwaKHfscCfgQvzcD+b027I/ZX7PQg8BtwB7FQYz0uBxcC9wFnAWoXh3kDae3sEuAc4oMn0eA1wHfAoaeE9KKd/BngWeC5P0+MalP0B8Ksmwx4NBHAMcB/wEPDpQv/vAZ8tdO8NdBe65wOn53FfBgzNaZ/IaY/lab9eocy/AzPz+PwFeG2h3655Hj2Ry00p1l+3jDxam945bTiwFHg5MAz4Zc6zBPhTbfo3GFbkcbgLGJrTPgt8r5DnoDztH83z4jV106DX8V2F5f9c4Iq8/DyR6+2qa+/2jeYRy9eP04FFwPcLaaeyfJ15X920/FKe//8EvgmsX+j/yVxmIfD++vrr2j4f2Lcu7ViWrzPrkZbJh/O0nA68ojBtvpvruj/PgyFN1sXtgevzNH8I+FGLZfz4PA4PAKfmflsCT5PO0NTy70Zab9fuZd5cBvwVOCanDc3DH527rwM+0Gj8C/Pvo6Tl7QngPGA74Ebg8Tzv16mbn2fmcZwPHFVm3jVaFhqMz1qkbdO9edm4NM+HdUnLaQBPAXc3WXe2r0s7HHimNk1JO6NT83ybC3ywsCwsBYbl7rOAHmCTwjr41cIyfhHwqzzNbga2K9T5NmBOXhYuzsvFB5osO9sB15KWw4fyPN2s7HaI5tuw00nL7xO5TW/tbV2PiJYBc3yeKEOb5JkA3ETa8A3PDTqvsBD0AGcDawMfJC3cPyQdMe2YZ9a2hQX8uTwT1yZt2O4hrwyko62t8oLzrrxwvLIwoXuA/yStFOuz4sq/P3ArsBkpeL6mUPZS4Oe5TaNJwfy4wnCfy20fAnyEtCKrwbRYm7SQnQmsA+yTZ8SrCuP3gybTchGFjWOTjcm38/j9CynwvaZ+Y1xcCes2kDOBkSxfUecDt+TpugXwd+DDud/rSCvmG/K4H5Pzr5vH717g43m8D8/T6SUBMw9rMvC5QvcJwG/y7/NJG4+189+bG03fwko/Ns/L2kr2YsAEdsjLxX55WKflebJOq/FdxeX/XNIyfGCeRucDN/W2keKlAbMH+GKepusX0ibk9h9IChKb5zJfJW3QtiAtr78Azi+095/ATsCGpPWsLwHzQ3n4G+Rx243lG8ifAd/K9bw8T9MPNVkXLwc+TVp31wPe1GIZvzwPe2fSNmPf3H8a8JFC/guB/2kyb35A2oGal6fnqgTMqcAmpO3VMuAaYFtSsJrN8mBcm3dfyfNzL9KyWFv/m827lywLDcbn/aRleVtgI+AnFAJrs3ndW/88TXrIBwGk4HVxnke75Gn/1tzvj8A78+/fkg5eDij0O7SwjC8Bds/T+zJgSu43jLSjcVjudxJpu1EMmPXLzvak9XldUoz5I8uDc9PtEM23Ya8inc3bqrDsbdfb9ItoHTCPAha1yHM3cGChe39gfmEhWMryPc+N80x7QyH/rcAhhQW8uLFZi7SH+eZe6p4JHFyY0Pc1Wfn3IQXCN1I4eskTcRkwrpD2IeC6wjDmFvptkMdhywbteTMp6BWHfzlwbnEFbjItnwPGN+k/Ote9dSHtFuDIwoLaKmC+v26Y84GjC90TgW/m398g7/wU+s8hbQj2pG7HgbSz1FvA3BeYV+j+M/De/HsCaYel15W9fqUnBZL7SAt+MWD+F3BF3TJ0P7B3q/FdxeX/XOD3he5xwNL69ha6X5xHef48y4pH9HuT1pmhhbQHScutSBvg4t76vwL35N+TgS8U+u1QX3+Ded8sYL6fuj3ynP4K0jpTPLJ9N/CHJuvipcAkCstui2X81XXz6Lv597uAPxfW3UXA7k3mzQ/y75tJO7urEjD3KHTfCpxe6P4yyzfee5M29hsW+l9BWiZbzbuXLAsNxuca4KOF7leRthlDC21dqYCZ0xeRlvWRwPPAxoV+57N83ToP+FqehotIwe4LvPTo83vAdwrDOBD4R/79XuDGQj+RglYxYN7X2zjkPIcAt+ffTbdDNN+GbU9at/alwRmKRn+trmE+DAxrcR55K1KEr7k3p704jIh4Pv9emv//s9B/KWlvqWZB7UdEvEA6TbEVgKT3Spop6VFJj5L2pIc1KlsvIq4Fvk46VfBPSZMkbZLL1/ZSiuMwotC9qDCcp/PPYptrtgIW5Hb3NqxmHgZeWSLfosLvp3tpS28aTaPehrcNcGpteudpPpI0nlsB90deArPiNKx3LbC+pDdI2oa09/rT3O8C0p7zbyXNk3RGq5GIiGmkgHl8Xa8Vlsc8LxbQy/wsjm++mefJ/HcU5Zb/RsNbbyWuvSyOiGfq0h6OFa9z19o4nLTDdmthfvwmp0Ne/grlms0PSBv3tevS1iZthCGdIr4amCJpoaSJktYmLRdrAw8U2vEt0pFmTf1ydhpp43iLpFmS3t+ibfXjUdum/BwYJ2lb0lHHYxFxS4thQTqF+GnSxn1l1W+vmm2/HomIpwrdtba3mnfQeFkoarStHUragVkleX4OJx0RbgUsiYgn6uqorTvXkwL764A7gd+RAs8bSQcVDxXK9bZNWWEZzduP+juLV1h2JL1c0hRJ90t6nHTWoLbdb7Ud6nUbFhFzgZNJO1YP5jqKseslWgXMG0mnmw5pkmdhblTNqJy2qkbWfuQ7IbcGFuaN7LeBE0nn2zcD/kZaCWuKE+0lIuJrEbEb6dTKDqTrPQ+RNhD143D/KrR9ITCyeAfnSg7r98A7V6HemqdIK2XNlg3yNJ1GdRaQTqNuVvjbICIuJx35j5BUnP6jehtQDlxXkI5E3gP8srZiRsQTEXFqRGwLvAM4RdJbS7SvthEsjvMKy2Nu30hKzIOIOCDSHYYbRcRllFv+W3ma5vNkZebHQ6QN9I6F+bFppJs4IM2TkYX8vc6P7D7SEV3RGPIGJyKei4jPRMQ44N9I14LeS1oulpGOKGrt2CQiduxtvCJiUUR8MCK2Ip3BubjF4y7147EwD+cZ0nJ0FPAfpKDeUkT8jrRT9tG6XmXWmZWxuaQNC921tread9B6WWi0re1hxQC+sg7Ow7glD38LScUbDIvbr7+QjmoPBa6PiNm5/9tJwbSMB0jbdODF9XPrujz10+H8nPbaiNgEOJrl2/1W26Fm2zAi4ocR8SbSdA3SKfFeNQ2YEfEY6frjRZIOkbSBpLUlHSBpYs52OXCWpOGShuX8fXkubTdJh+U99JNJK+ZNpOsZQTqnjqT3kY4wS5H0+nx0szZpJXkGeD4f/V4BfE7Sxjkwn7KK43BzHvZpeTrtTQoAU0qWPwf4N0kXSNoyt3t7ST+QtFmJ8jOBAyVtkcufvPKjsIJvAx/O002SNpT09rxC3Uha0T6Wb9U/jHTNopkfkk6pHZV/AyDp3/N4inR94/n811REXEfa0z2mkHwF8HZJb83z+lTSMvSXcqO8wvDLLP+tzATeI2mIpPGkPfJVknc6vg1cKOnlAJJGSNo/Z7kCOFbSOEkbkJanZn4EnCzp1Xn+dpFOw07Jw36LpJ3zHaaPk3Ysn4+IB0jXsL4saRNJa0naTlKv4ybpCEm1DeMjpHW52Tz+rzy9dwTel9tacynp1N1BrNx6+mnSkW7RTOCwXNf2wHErMbzefEbSOpLeTNrJuLLEvCvjcuDjksZI2oh05/aPope77pvJ24ijSGfcvhgRD0fEAtJ6cr6k9SS9ljQ9LoMXz67dSrr/oBYg/0LaASobMH8F7JzXp6F5WK12UjYm3dT0qKQRpAOdmlbboV63YZJeJWkfSeuS4sFSWmx3Wj5WEhFfIQWQs0jBagHpKO9nOctngRmkuw7vJN2t1JeHRn9O2qg+QtqDPCzv6c4mXS+4kbRHtTPpOlhZm5Am3iOkPeiHSXesQbrA/BTpxoAbSBvzySvb8Ih4lrQSH0Dao7yYdJ3uHyXL3026rjEamCXpMeDHpOn7RJOiNd8n3RE4n7RB+1HT3K3bM4N0s9PXSdNtLmlDVRvXw3L3I6R59pMWw6vtUGwF/LrQayzp6PpJ0vy9OAfDMs4i3URRq2MOaQ/0f0jz4B3AO3J7V1qJ5b+Vk3IbHiXtKJQt15vTSfPhpnx66vekvX4i4tekG0uuzXmubTGsbwP/S7r55DFSIPp0RPwm99+SdNf646Sbo65neYB6L+lSxmzS/L+K5pcTXg/cLOlJ0o0vJ0XEPU3yX5/H4RrgSxHx4gtIIuLPwAvAbRExv8U4viiXqz99eyHp2uE/gUvIwaEPFpGmx8I8rA8X1v9e511Jk0nr+B9JN0M+Q9p2rYy/5nkwF/gA8PGIOLvQ/92k7c9C0iWTc/LRec31pNPxtxS6N85taimftj2CdF36YdI1/xmkndrefIZ0GvgxUsB9cTvTajvUbBtGuv/hC6TtxCLSJYUzm7VfK576HViSziVdlD56oNtiZp1L0rXADyPiOwPdFlt1+fJVN+nxmz8MdHtaWa1fjWdmqx9JrycdcfTpDIoNDEn7S9osnwo9k3Q98qYBblYpDphmNmhIuoR0KvPkurs5bfD4V9LjiLVLJodExNLmRTpDR52SNTMz61Q+wjQzMyuhs15s28+GDRsWo0ePHuhmmJkNKrfeeutDETG8dc7VyxodMEePHs2MGTMGuhlmZoOKpFZvkVot+ZSsmZlZCQ6YZmZmJThgmpmZleCAaWZmVoIDppmZWQkOmGZmZiU4YJqZmZXggGlmZlbCGv3iAmuf0047jUWLFrHlllsycWLZbyubmQ0eDpjWFosWLeL+++8f6GaYmVXGp2TNzMxKcMA0MzMroeMCpqTxkuZImivpjCb5DpcUkroKaZ/K5eZI2r9/WmxmZmuCjrqGKWkIcBGwH9ANTJc0NSJm1+XbGPgYcHMhbRxwJLAjsBXwe0k7RMTz/dV+MzNbfXXaEebuwNyImBcRzwJTgIMb5DsPmAg8U0g7GJgSEcsi4h5gbh6emZlZn3VawBwBLCh0d+e0F0naFRgZEb9c2bJmZmarqtMCphqkxYs9pbWAC4FTV7ZsYRjHS5ohacbixYtXuaFmZrZm6bSA2Q2MLHRvDSwsdG8M7ARcJ2k+8EZgar7xp1VZACJiUkR0RUTX8OHD29x8MzNbXXVawJwOjJU0RtI6pJt4ptZ6RsRjETEsIkZHxGjgJuCgiJiR8x0paV1JY4CxwC39PwpmZrY66qi7ZCOiR9KJwNXAEGByRMySNAGYERFTm5SdJekKYDbQA5zgO2TNzKxdOipgAkTENGBaXdrZveTdu677c8DnKmucmZmtsTrtlKyZmVlHcsA0MzMrwQHTzMysBAdMMzOzEhwwzczMSnDANDMzK8EB08zMrAQHTDMzsxIcMM3MzEpwwDQzMyvBAdPMzKwEB0wzM7MSHDDNzMxKcMA0MzMrwQHTzMysBAdMMzOzEjoqYEoaL2mOpLmSzmjQ/8OS7pQ0U9INksbl9NGSlub0mZK+2f+tNzOz1dnQgW5AjaQhwEXAfkA3MF3S1IiYXcj2w4j4Zs5/EPAVYHzud3dE7NKfbTYzszVHJx1h7g7MjYh5EfEsMAU4uJghIh4vdG4IRD+2z8zM1mCdFDBHAAsK3d05bQWSTpB0NzAR+Fih1xhJt0u6XtKbq22qmZmtaTopYKpB2kuOICPioojYDjgdOCsnPwCMiohdgVOAH0rapGEl0vGSZkiasXjx4jY13czMVnedFDC7gZGF7q2BhU3yTwEOAYiIZRHxcP59K3A3sEOjQhExKSK6IqJr+PDhbWm4mZmt/jopYE4HxkoaI2kd4EhgajGDpLGFzrcDd+X04fmmISRtC4wF5vVLq83MbI3QMXfJRkSPpBOBq4EhwOSImCVpAjAjIqYCJ0raF3gOeAQ4JhffE5ggqQd4HvhwRCzp/7EwM7PVVccETICImAZMq0s7u/D7pF7K/Rj4cbWtMzOzNVknnZI1MzPrWA6YZmZmJThgmpmZleCAaWZmVkIlAVPSREmbSFpb0jWSHpJ0dBV1mZmZ9YeqjjDflt/7+u+kFxLsAHyyorrMzMwqV1XAXDv/PxC43M9EmpnZYFfVc5i/kPQPYCnwUUnDgWcqqsvMzKxylRxhRsQZwL8CXRHxHPA0dZ/qMjMzG0yquulnA+AE4Bs5aSugq4q6zMzM+kNV1zD/F3gW+Lfc3Q18tqK6zMzMKldVwNwuIiaSXpJORCyl8fcuzczMBoWqAuazktYnfwBa0nbAsorqMjMzq1xVd8meA/wGGCnpMmAP4NiK6jIzM6tcJQEzIn4n6TbgjaRTsSdFxENV1DXQdvvkpQPdhI6w8UNPMAS476EnPE2AWy9470A3wczarK0BU9Lr6pIeyP9HSRoVEbe1sz4zM7P+0u4jzC/n/+uRHiP5K+kI87XAzcCb2lyfmZlZv2jrTT8R8ZaIeAtwL/C6iOiKiN2AXYG5ZYYhabykOZLmSjqjQf8PS7pT0kxJN0gaV+j3qVxujqT92zVeZmZmVd0l++qIuLPWERF/A3ZpVUjSEOAi4ABgHPDuYkDMfhgRO0fELsBE4Cu57DjgSGBHYDxwcR6emZlZn1UVMP8u6TuS9pa0l6RvA38vUW53YG5EzIuIZ4Ep1L1SL38FpWZD8qMrOd+UiFgWEfeQjmh37/OYmJmZUd1jJe8DPgKclLv/yPLX5DUzAlhQ6O4G3lCfSdIJwCnAOsA+hbI31ZUd0aDs8cDxAKNGjSrRJDMzs+pevv5MRFwYEYfmvwsjoszXShq9DShekhBxUURsB5wOnLWSZSfla6tdw4cPL9EkMzOzio4wJY0Fziddh1yvlh4R27Yo2g2MLHRvDSxskn8Ky49cV7asmZlZaVW+fP0bQA/wFuBS4Pslyk0HxkoaI2kd0k08U4sZcjCueTtwV/49FThS0rqSxgBjgVv6NBZmZmZZVdcw14+IayQpIu4FzpX0J9Ir83oVET2STgSuBoYAkyNilqQJwIyImAqcKGlf0ovdHwGOyWVnSboCmE0K1CdExPMVjZ+ZDRKnnXYaixYtYsstt2TixIkD3RwbxKoKmM9IWgu4KwfA+4GXlykYEdOAaXVpZxd+n/SSQsv7fQ743Cq12MxWS4sWLeL+++8f6GbYaqCqU7InAxsAHwN2A44mHwmamZkNRm0/wswvC/h/EfFJ4EnSIyZmZmaDWtuPMPN1w90k+YPRZma22qjqGubtwM8lXQk8VUuMiJ9UVJ+ZmVmlqgqYWwAPs/wtPJBeIuCAaWZmg1JVH5D2dUszM1utVPWmn681SH6M9Czlz6uo08zMrEpVPVayHulzXnflv9eSTtMeJ+mrFdVpZmZWmaquYW4P7BMRPQCSvgH8FtgPuLNZQTMzs05U1RHmCNK3Kms2BLbKj5wsq6hOMzOzylR1hDkRmCnpOtJnt/YEPi9pQ+D3FdVpZmZWmarukv2upGnA7qSAeWZE1D619ckq6jQzM6tSVadka8NeDCwBtpe0Z4V1mZmZVaqqx0q+CLwLmAW8kJMD+GMV9ZmZmVWtqmuYhwCvigjf4GNmZquFqk7JzgPWrmjYZmZm/a6qI8ynSXfJXkPhMZKI+FizQpLGA/8NDAG+ExFfqOt/CvABoId0ffT9EXFv7vc8y5/xvC8iDmrTuJiZmVUWMKfmv9LydzQvIr3coBuYLmlqRMwuZLsd6IqIpyV9hPT4yrtyv6URsUvfm25mZvZSVQXMBcBNEfH0SpTZHZgbEfMAJE0BDgZeDJgR8YdC/puAo9vQVjMzs5aquoZ5LOmU7I2SJkp6h6TNW5QZQQq0Nd05rTfHAb8udK8naYakmyQd0lshScfnfDMWL17coklmZmZJVS8ueC+ApK2Aw0mnWrdqUZ8aDaphRulooAvYq5A8KiIWStoWuFbSnRFxd4O2TQImAXR1dTUcvpmZWb2qnsM8GngzsDPwEPB14E8tinUDIwvdWwML6zNJ2hf4NLBX8bGV2puEImJefiXfrsBLAqaZmdmqqOoa5ldJweqbwB8iYn6JMtOBsZLGAPcDRwLvKWaQtCvwLWB8RDxYSN8ceDoilkkaBuxBuiHIzMysLao6JTtM0o6kl65/TtJYYE5E/EeTMj2STgSuJj1WMjkiZkmaQPrw9FTgAmAj4EpJsPzxkdcA35L0Aum67Bfq7q41MzPrk6pOyW4CjAK2AUYDm7L8FXm9iohpwLS6tLMLv/ftpdxfSKd/zczMKlHVKdkbCn9fj4juiuoxMzPrF1Wdkn0tgKSN6eVOVzMzs8GkkucwJe0k6Xbgb8BsSbdK2qmKuszMzPpDVS8umAScEhHbRMQo4NScZmZmNihVFTA3LL7GLiKuAzasqC4zM7PKVXXTzzxJ/wV8P3cfDdxTUV1mZmaVq+oI8/3AcOAnwE+BYcD7KqrLzMysclXdJfsI0PTbl2ZmZoNJ248wJR0j6TZJT+W/GZLe2+56rLO8sM6GPL/uJrywji9Vm9nqqa1HmDkwngycAtxG+gLJ64ALJBERl7azPuscT41920A3wcysUu0+wvwocGhE/CEiHouIRyPiWuCduZ+Zmdmg1O6AuUmjL5PktE3aXJeZmVm/aXfAXLqK/czMzDpau++SfY2kOxqkC9i2zXWZmZn1m7YHzDYPz8zMrCO0NWBGxL3tHJ6ZmVmnqOpNP6tE0nhJcyTNlXRGg/6nSJot6Q5J10japtDvGEl35b9j+rflZma2uuuYgClpCHARcAAwDni3pHF12W4HuvL3Nq8CJuayWwDnAG8AdgfOkbR5f7XdzMxWf20NmJKuyf+/uArFdwfmRsS8iHgWmAIcXMyQn+98OnfeBGydf+8P/C4iluTX8v0OGL8q42BmZtZIu2/6eaWkvYCDJE0h3R37ooi4rUnZEcCCQnc36YixN8cBv25SdkSjQpKOB44HGDVqVJPBm5mZLdfugHk2cAbpyO8rdf0C2KdJWTVIi4YZpaOBLmCvlS0bEZPIH7Pu6upqmMfMzKxeu++SvQq4StJ/RcR5K1m8GxhZ6N4aWFifSdK+wKeBvSJiWaHs3nVlr1vJ+s3MzHpV1ee9zpN0ELBnTrouIn7Zoth0YKykMcD9wJHAe4oZJO0KfAsYHxEPFnpdDXy+cKPP24BP9XE0zMzMXlRJwJR0Pukmnsty0kmS9oiIXoNYRPRIOpEU/IYAkyNilqQJwIyImApcAGwEXCkJ4L6IOCgilkg6jxR0ASZExJIqxs3MzNZMlQRM4O3ALhHxAoCkS0iPhDQ96ouIacC0urSzC7/3bVJ2MjC5D202MzPrVZXPYW5W+L1phfWYmZlVrqojzPOB2yX9gXQH6574mqKZmQ1iVd30c7mk64DXkwLm6RGxqIq6zMzM+kNVR5hExAPA1KqGb2Zm1p865l2yZmZmncwB08zMrIS2B0xJa0n6W7uHa2ZmNpDafg0zIl6Q9FdJoyLivnYP38zKuW/CzgPdhI7Qs2QLYCg9S+71NAFGnX3nQDdh0Krqpp9XArMk3QI8VUuMiIMqqs/MzKxSVQXMz1Q0XDMzswFR1XOY10vaBhgbEb+XtAHp/bBmZmaDUiV3yUr6IHAV6csikD7m/LMq6jIzM+sPVT1WcgKwB/A4QETcBby8orrMzMwqV1XAXBYRz9Y6JA0FoqK6zMzMKldVwLxe0pnA+pL2A64EflFRXWZmZpWrKmCeASwG7gQ+RPrG5VkV1WVmZla5SgJm/nD0JcB5pEdMLomIlqdkJY2XNEfSXElnNOi/p6TbJPVIOryu3/OSZuY/v/TdzMzaqpLHSiS9HfgmcDfp815jJH0oIn7dpMwQ4CJgP6AbmC5pakTMLmS7DzgW+ESDQSyNiF3aNApmZmYrqOrFBV8G3hIRcwEkbQf8Cug1YAK7A3MjYl4uMwU4GHgxYEbE/NzvhWqabWZm1lhV1zAfrAXLbB7wYIsyI4AFhe7unFbWepJmSLpJ0iG9ZZJ0fM43Y/HixSsxeDMzW5O19QhT0mH55yxJ04ArSI+THAFMb1W8QdrKPIoyKiIWStoWuFbSnRFx90sGGDEJmATQ1dXlR13MzKyUdp+SfUfh9z+BvfLvxcDmLcp2AyML3VsDC8tWHBEL8/95kq4DdiVdQzUzM+uztgbMiHhfH4pPB8ZKGgPcDxwJvKdMQUmbA09HxDJJw0hvGZrYh7aYmZmtoKq7ZMcA/wmMLtbR7PNeEdEj6UTgatKL2idHxCxJE4AZETFV0uuBn5KOVt8h6TMRsSPwGuBb+WagtYAv1N1da2Zm1idV3SX7M+C7pLf7lL6jNSKmkV5yUEw7u/B7OulUbX25vwD+MqzjaMRBAAAKfElEQVSZmVWmqoD5TER8raJhm5mZ9buqAuZ/SzoH+C2wrJYYEbdVVJ+ZmVmlqgqYOwP/AezD8lOykbvNzMwGnaoC5qHAtsVPfJmZmQ1mVb3p56/AZhUN28zMrN9VdYT5CuAfkqaz4jXMXh8rMTMz62RVBcxzKhqumZnZgKgkYEbE9VUM18zMbKBU9aafJ1j+4vR1gLWBpyJikyrqMzMzq1pVR5gbF7vz57Z2r6IuMzOz/lDVXbIriIif4WcwzcxsEKvqlOxhhc61gC5W7tuWZmZmHaWqu2SL38XsAeYDB1dUl5mZWeWquobZl+9impmZdZy2BkxJZzfpHRFxXjvrMzMz6y/tPsJ8qkHahsBxwMsAB0wzMxuU2nqXbER8ufYHTALWB94HTAG2bVVe0nhJcyTNlXRGg/57SrpNUo+kw+v6HSPprvx3TJtGyczMDKjgGqakLYBTgKOAS4DXRcQjJcoNAS4C9gO6gemSpkbE7EK2+4BjgU80qPMclt+Ne2su27JeMzOzMtp6hCnpAmA68ASwc0ScuxJBa3dgbkTMy58Fm0LdnbURMT8i7mD5NzZr9gd+FxFLcn2/A8b3ZVzMzMyK2v3iglOBrYCzgIWSHs9/T0h6vEXZEcCCQnd3TiujdFlJx0uaIWnG4sWLSw7ezMzWdG09JRsRfQnAajTIdpeNiEmk66t0dXX5ZQpmZlZKv7war6RuYGShe2tgYT+UNTMza6mTAuZ0YKykMZLWAY4EppYsezXwNkmbS9oceFtOMzMza4uOCZgR0QOcSAp0fweuiIhZkiZIOghA0usldQNHAN+SNCuXXUJ6xnN6/puQ08zMzNqiqnfJrpKImAZMq0s7u/B7Oul0a6Oyk4HJlTbQzMzWWB1zhGlmZtbJHDDNzMxKcMA0MzMrwQHTzMysBAdMMzOzEhwwzczMSuiox0rMzNpt2HovAD35v9mqc8A0s9XaJ1776EA3wVYTPiVrZmZWggOmmZlZCQ6YZmZmJThgmpmZleCAaWZmVoIDppmZWQkOmGZmZiU4YJqZmZXQUQFT0nhJcyTNlXRGg/7rSvpR7n+zpNE5fbSkpZJm5r9v9nfbzcxs9dYxb/qRNAS4CNgP6AamS5oaEbML2Y4DHomI7SUdCXwReFfud3dE7NKvjTYzszVGJx1h7g7MjYh5EfEsMAU4uC7PwcAl+fdVwFslqR/baGZma6hOCpgjgAWF7u6c1jBPRPQAjwEvy/3GSLpd0vWS3txbJZKOlzRD0ozFixe3r/VmZrZa66SA2ehIMUrmeQAYFRG7AqcAP5S0SaNKImJSRHRFRNfw4cP71GAzM1tzdFLA7AZGFrq3Bhb2lkfSUGBTYElELIuIhwEi4lbgbmCHyltsZmZrjE4KmNOBsZLGSFoHOBKYWpdnKnBM/n04cG1EhKTh+aYhJG0LjAXm9VO7zcxsDdAxd8lGRI+kE4GrgSHA5IiYJWkCMCMipgLfBb4vaS6whBRUAfYEJkjqAZ4HPhwRS/p/LMzMbHXVMQETICKmAdPq0s4u/H4GOKJBuR8DP668gWZmtsbqpFOyZmZmHcsB08zMrAQHTDMzsxIcMM3MzEpwwDQzMyvBAdPMzKwEB0wzM7MSHDDNzMxKcMA0MzMrwQHTzMysBAdMMzOzEhwwzczMSnDANDMzK8EB08zMrAQHTDMzsxIcMM3MzErouIApabykOZLmSjqjQf91Jf0o979Z0uhCv0/l9DmS9u/PdpuZ2eqtowKmpCHARcABwDjg3ZLG1WU7DngkIrYHLgS+mMuOA44EdgTGAxfn4ZmZmfVZRwVMYHdgbkTMi4hngSnAwXV5DgYuyb+vAt4qSTl9SkQsi4h7gLl5eGZmZn02dKAbUGcEsKDQ3Q28obc8EdEj6THgZTn9prqyI+orkHQ8cHzufFLSnPY03YBhwEMD3YhOoC8dM9BNsBV52aw5R+0YyjbtGMhg02kBs9GcjJJ5ypQlIiYBk1a+adaKpBkR0TXQ7TCr52XT2qHTTsl2AyML3VsDC3vLI2kosCmwpGRZMzOzVdJpAXM6MFbSGEnrkG7imVqXZypQO991OHBtREROPzLfRTsGGAvc0k/tNjOz1VxHnZLN1yRPBK4GhgCTI2KWpAnAjIiYCnwX+L6kuaQjyyNz2VmSrgBmAz3ACRHx/ICMyJrLp7qtU3nZtD5TOjgzMzOzZjrtlKyZmVlHcsA0MzMrwQHT+qzV6wzNBoqkyZIelPS3gW6LDX4OmNYnJV9naDZQvkd6VaZZnzlgWl+VeZ2h2YCIiD+S7qY36zMHTOurRq8zfMkrCc3MBjsHTOurUq8kNDMb7Bwwra/8SkIzWyM4YFpflXmdoZnZoOeAaX0SET1A7XWGfweuiIhZA9sqs0TS5cCNwKskdUs6bqDbZIOXX41nZmZWgo8wzczMSnDANDMzK8EB08zMrAQHTDMzsxIcMM3MzEpwwLQ1nqQtJU2RdLek2ZKmSdpB0t6SfjnAbWvYBkkbSLpM0p2S/ibpBkkbSdpM0kdLDLdUPjNbzgHT1miSBPwUuC4itouIccCZwCvaMOyhfR1GEycB/4yInSNiJ+A44DlgM6BMICybz8wyB0xb070FeC4ivllLiIiZEfGn3LmRpKsk/SMf0QlA0nxJw/LvLknX5d/nSpok6bfApZKOlfQTSb+RdJekibV6JL1N0o2SbpN0paSNcvr4XN8NwGG9tPuVwP2FNs+JiGXAF4DtJM2UdEE+6rwm13GnpNqXZOrzrXAkK+nrko7Nv7+Qj7zvkPSlVZ3QZoNdlXvAZoPBTsCtTfrvCuxIej/un4E9gBtaDHM34E0RsTQHnV3ycJYBcyT9D7AUOAvYNyKeknQ6cEoOqN8G9gHmAj/qpY7JwG8lHQ5cA1wSEXcBZwA7RcQu8OJR7qER8XgO8DdJmtog396NKpG0BXAo8OqICEmbtRh3s9WWjzDNmrslIroj4gVgJjC6RJmpEbG00H1NRDwWEc8As4FtgDeSPrj9Z0kzgWNy+quBeyLirkiv4fpBowoiYiawLXABsAUwXdJrGmQV8HlJdwC/J316bWVONz8OPAN8R9JhwNMrUdZsteIjTFvTzQIOb9J/WeH38yxfZ3pYvsO5Xl2Zp0oMQ8DvIuLdxYySdqHk59Ei4kngJ8BPJL0AHAj8uC7bUcBwYLeIeE7S/AbtrR8fankiokfS7sBbSS/WP5F09Gu2xvERpq3prgXWlfTBWoKk10vaq0W5+aRTrwDvXIV6bwL2kLR9rnMDSTsA/wDGSNou53t3o8KS9pC0ef69Dulo9V7gCWDjQtZNgQdzsHwL6SiWBvnuBcZJWlfSpqQASb6uumlETANOJp1eNlsjOWDaGi2f9jwU2C8/VjILOJfW3/T8DPDfkv5EOmpc2XoXA8cCl+fTpTeRrhM+AxwP/Crf9HNvL4PYDrhe0p3A7cAM4McR8TDpNO/fJF0AXAZ0SZpBOtr8R65/hXwRsQC4Argjl7k917Mx8MvcxuuBj6/suJqtLvy1EjMzsxJ8hGlmZlaCA6aZmVkJDphmZmYlOGCamZmV4IBpZmZWggOmmZlZCQ6YZmZmJfx/G0566xmw4s0AAAAASUVORK5CYII=\n",
      "text/plain": [
       "<Figure size 432x288 with 1 Axes>"
      ]
     },
     "metadata": {
      "needs_background": "light"
     },
     "output_type": "display_data"
    }
   ],
   "source": [
    "# Compare churned vs non-churned users by number of downgrades - higher number of downgrades for non_churned users\n",
    "\n",
    "downgrade_churn = df_nd.select('userId','num_downgrades','churned_user').toPandas()\n",
    "ax5 = sns.barplot(x = 'churned_user', y = 'num_downgrades', data = downgrade_churn)\n",
    "ax5.set(xlabel = 'Churned Status', ylabel = 'Number of Downgrades', title = 'Comparison of Churned vs Non-Churned Users by Number of Downgrades')\n",
    "plt.show();"
   ]
  },
  {
   "cell_type": "code",
   "execution_count": 58,
   "metadata": {},
   "outputs": [
    {
     "data": {
      "image/png": "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\n",
      "text/plain": [
       "<Figure size 432x288 with 1 Axes>"
      ]
     },
     "metadata": {
      "needs_background": "light"
     },
     "output_type": "display_data"
    }
   ],
   "source": [
    "# Compare churned vs non-churned users by number of thumbs ups - higher number of thumbs ups\n",
    "\n",
    "thumbsup_churn = df_nd.select('userId','num_thumbs_ups','churned_user').toPandas()\n",
    "ax6 = sns.barplot(y = 'num_thumbs_ups', x = 'churned_user', data = thumbsup_churn)\n",
    "ax6.set(xlabel = 'Churned Status', ylabel = 'Number of Thumbs Ups', title = 'Comparison of Churned vs Non-Churned Users by Number of Thumbs Ups')\n",
    "plt.show();"
   ]
  },
  {
   "cell_type": "code",
   "execution_count": 59,
   "metadata": {},
   "outputs": [
    {
     "data": {
      "image/png": "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\n",
      "text/plain": [
       "<Figure size 432x288 with 1 Axes>"
      ]
     },
     "metadata": {
      "needs_background": "light"
     },
     "output_type": "display_data"
    }
   ],
   "source": [
    "# Compare churned vs non-churned users by number of thumbs downs - higher number of thumbs downs\n",
    "\n",
    "thumbsdown_churn = df_nd.select('userId','num_thumbs_downs','churned_user').toPandas()\n",
    "ax7 = sns.barplot(y = 'num_thumbs_downs', x = 'churned_user', data = thumbsdown_churn)\n",
    "ax7.set(xlabel = 'Churned Status', ylabel = 'Number of Thumbs Downs', title = 'Comparison of Churned vs Non-Churned Users by Number of Thumbs Downs')\n",
    "plt.show();"
   ]
  },
  {
   "cell_type": "code",
   "execution_count": 60,
   "metadata": {},
   "outputs": [
    {
     "data": {
      "image/png": "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\n",
      "text/plain": [
       "<Figure size 432x288 with 1 Axes>"
      ]
     },
     "metadata": {
      "needs_background": "light"
     },
     "output_type": "display_data"
    }
   ],
   "source": [
    "# Compare churned vs non-churned users by number of help sites visited - higher number for non-churned users\n",
    "\n",
    "help_churn = df_nd.select('userId','num_helps','churned_user').toPandas()\n",
    "ax8 = sns.barplot(y = 'num_helps', x = 'churned_user', data = help_churn)\n",
    "ax8.set(xlabel = 'Churned Status', ylabel = 'Number of Helps', title = 'Comparison of Churned vs Non-Churned Users by Number of Help Visits')\n",
    "plt.show();"
   ]
  },
  {
   "cell_type": "code",
   "execution_count": 61,
   "metadata": {},
   "outputs": [
    {
     "data": {
      "image/png": "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\n",
      "text/plain": [
       "<Figure size 432x288 with 1 Axes>"
      ]
     },
     "metadata": {
      "needs_background": "light"
     },
     "output_type": "display_data"
    }
   ],
   "source": [
    "# Compare churned vs non-churned users by number of error pages encountered - more error pages for non-churned group\n",
    "\n",
    "error_churn = df_nd.select('userId','num_errors','churned_user').toPandas()\n",
    "ax9 = sns.barplot(y = 'num_errors', x = 'churned_user', data = error_churn)\n",
    "ax9.set(xlabel = 'Churned Status', ylabel = 'Number of Errorss', title = 'Comparison of Churned vs Non-Churned Users by Number of Errors Pages')\n",
    "plt.show();"
   ]
  },
  {
   "cell_type": "code",
   "execution_count": 65,
   "metadata": {},
   "outputs": [
    {
     "data": {
      "image/png": "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\n",
      "text/plain": [
       "<Figure size 432x288 with 1 Axes>"
      ]
     },
     "metadata": {
      "needs_background": "light"
     },
     "output_type": "display_data"
    }
   ],
   "source": [
    "# Compare churned vs non-churned users by number of friends added - higher number of friends for non-churned users\n",
    "\n",
    "friends_churn = df_nd.select('userId','num_friends','churned_user').toPandas()\n",
    "ax10 = sns.barplot(y = 'num_friends', x = 'churned_user', data = friends_churn)\n",
    "ax10.set(xlabel = 'Churned Status', ylabel = 'Number of Friends Added', title = 'Comparison of Churned vs Non-Churned Users by Number of Friends Added')\n",
    "plt.show();"
   ]
  },
  {
   "cell_type": "code",
   "execution_count": 66,
   "metadata": {},
   "outputs": [
    {
     "data": {
      "image/png": "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\n",
      "text/plain": [
       "<Figure size 432x288 with 1 Axes>"
      ]
     },
     "metadata": {
      "needs_background": "light"
     },
     "output_type": "display_data"
    }
   ],
   "source": [
    "# Compare churned vs non-churned users by number of days since registration - longer days since registration for non_churned users\n",
    "\n",
    "duration_churn = df_nd.select('userId','duration_days','churned_user').toPandas()\n",
    "ax11 = sns.barplot(x = 'churned_user', y = 'duration_days', data = duration_churn)\n",
    "ax11.set(xlabel = 'Churned Status', ylabel = 'Number of Days', title = 'Comparison of Churned vs Non-Churned Users by Number of Days Since Registration')\n",
    "plt.show();"
   ]
  },
  {
   "cell_type": "markdown",
   "metadata": {},
   "source": [
    "Based on group comparisons from exploratory analyses, it is clear that churned users tended to have a shorter stay on the site before they terminated their relationship with Sparkify than non-churned users. Thus, the values on a number of measures were also smaller for churned users, such as number of thumbs ups/downs, number of friends added, and number of errors experienced. The exceptions were the number of songs and average length of stay, which may indicate that churned users were active listeners but decided to cancel their subscription for some reason. There was not much gender difference in churning behavior and users in both paid and free subscription churned, though the rate was higher for the free level, which is expected."
   ]
  },
  {
   "cell_type": "markdown",
   "metadata": {},
   "source": [
    "## Model building and evaluation\n",
    "\n",
    "The machine learning APIs within Spark ML were used to build and tune models.\n",
    "\n",
    "1. The features and labels were vectorized and scaled\n",
    "\n",
    "2. The dataset was split into train and test set (The percentage of the test set was 30%.)\n",
    "\n",
    "3. The models were trained and the results were visualized\n",
    "\n",
    "Three different machine learning models, Logistic Regression Classifier, Random Forest Classifier, and Gradient-Boosted Classifier, were trained to classify a binary outcome - churn vs stay using the 9 features identified above. The model performance was evaluated by AUC-ROC (Area Under Curve the ROC curve), AUC-PR (Area Under Curve the PR Curve), and accuracy. Due to class imbalance on churn rates, AUC values were given more importance than accuracy values. Results for the test data are displayed below."
   ]
  },
  {
   "cell_type": "code",
   "execution_count": 159,
   "metadata": {},
   "outputs": [],
   "source": [
    "# Define features and labels and apply standard scaler to data\n",
    "\n",
    "cols = ['avg_num_songs', 'avg_length', 'num_thumbs_ups', 'num_thumbs_downs', 'num_friends',\\\n",
    "        'num_helps', 'num_errors', 'num_downgrades', 'duration_days']\n",
    "assembler = VectorAssembler(inputCols= cols, outputCol = 'feature_cols')\n",
    "df_nd_tf = assembler.transform(df_nd)\n",
    "st_scaler= StandardScaler(inputCol = 'feature_cols', outputCol = 'scaled_features', withStd=True)\n",
    "st_scaler_model = st_scaler.fit(df_nd_tf)\n",
    "df_nd_tf = st_scaler_model.transform(df_nd_tf)"
   ]
  },
  {
   "cell_type": "code",
   "execution_count": 163,
   "metadata": {},
   "outputs": [],
   "source": [
    "# Get feature and label columns for model training\n",
    "\n",
    "df_scaled = df_nd_tf.select(col('scaled_features').alias('features'), col('churned_user').alias('label'))"
   ]
  },
  {
   "cell_type": "code",
   "execution_count": 164,
   "metadata": {},
   "outputs": [
    {
     "name": "stdout",
     "output_type": "stream",
     "text": [
      "Data split took 0.00011536677678426107 minutes.\n",
      "\n",
      "Training Dataset Count: 163\n",
      "Test Dataset Count: 62\n"
     ]
    }
   ],
   "source": [
    "# Split the data into train and test set\n",
    "\n",
    "bigtic = time.time()\n",
    "\n",
    "train, test = df_scaled.randomSplit([0.7, 0.3], seed = 42)\n",
    "\n",
    "bigtoc = time.time()\n",
    "print('Data split took ' + str((bigtoc-bigtic)/60) + ' minutes.\\n')\n",
    "print(f'Training Dataset Count: {train.count()}')\n",
    "print(f'Test Dataset Count: {test.count()}')"
   ]
  },
  {
   "cell_type": "code",
   "execution_count": 191,
   "metadata": {},
   "outputs": [],
   "source": [
    "def get_metrics(preds):\n",
    "    \n",
    "    '''\n",
    "    This function generates the ROC curve, area under ROC, and accuracy for test set\n",
    "    \n",
    "    Input:\n",
    "    preds - predctions from test set\n",
<<<<<<< HEAD
    "    \n",
    "    Output:\n",
    "    roc curve - ROC curve plot\n",
    "    roc - Area Under ROC for test set\n",
    "    pr - Area Under PR for test set\n",
    "    preds_acc - Acccuracy \n",
=======
    "    
    "    Output:
    "    roc curve - ROC curve plot\n",
    "    roc - Area Under ROC for test set\n",
    "    pr - Area Under PR for test set\n",
    "    preds_acc - Acccuracy
>>>>>>> 7925f6e7fc353df0f020140bb973ca1a003a8860
    "    \n",
    "    '''\n",
    "    \n",
    "    # Initiate the evaluator\n",
    "    evaluator = BinaryClassificationEvaluator()\n",
    "    # Get ROC (Receiver Pperating Characteristic)\n",
    "    roc = evaluator.evaluate(preds, {evaluator.metricName: 'areaUnderROC'})\n",
    "    # Get PR (Preceision Recall)\n",
    "    pr = evaluator.evaluate(preds, {evaluator.metricName: 'areaUnderPR'})\n",
    "    # Get accuracy (percentage of accurate predictions) \n",
    "    preds_acc = preds.filter(preds.label == preds.prediction).count()\n",
    "    \n",
    "    # Get FPR an TPR\n",
    "    predictions = preds.select('label','probability')\\\n",
    "                .rdd.map(lambda row: (float(row['probability'][1]), float(row['label'])))\\\n",
    "                .collect()\n",
    "    y_score, y_true = zip(*predictions)\n",
    "    fpr, tpr, thresholds = roc_curve(y_true, y_score, pos_label = 1)\n",
    "\n",
    "    # Plot the ROC curve\n",
    "    plt.figure(figsize=(5,5))\n",
    "    plt.plot(fpr, tpr)\n",
    "    plt.ylabel('FPR (False Positive Rate)')\n",
    "    plt.xlabel('TPR (True Positive Rate)')\n",
    "    plt.title('ROC Curve')\n",
    "    plt.show()\n",
    "    \n",
    "    # Area under ROC curve\n",
    "    print(f'Area Under ROC for test set: {roc:.2f}')\n",
    "    \n",
    "#     # Area under precision-recall curve\n",
    "    print(f'Area under PR for test set: {pr:.2f}')\n",
    "    \n",
    "    # Compute percentage of accurate predictions \n",
    "    print(f'Accuracy for test set: {preds_acc/preds.count():.2f}')\n"
   ]
  },
  {
   "cell_type": "code",
   "execution_count": 165,
   "metadata": {},
   "outputs": [
    {
     "name": "stdout",
     "output_type": "stream",
     "text": [
      "Logistic regression model training done. Took 3.72 minutes.\n",
      "\n"
     ]
    }
   ],
   "source": [
    "# Train the model - logistic regression\n",
    "\n",
    "bigtic = time.time()\n",
    "\n",
    "lr = LogisticRegression()\n",
    "lr_model = lr.fit(train)\n",
    "\n",
    "bigtoc = time.time()\n",
    "\n",
    "print(f'Logistic regression model training done. Took {((bigtoc-bigtic)/60):.2f} minutes.\\n')"
   ]
  },
  {
   "cell_type": "code",
   "execution_count": 192,
   "metadata": {},
   "outputs": [
    {
     "data": {
      "image/png": "iVBORw0KGgoAAAANSUhEUgAAAU0AAAFNCAYAAACE8D3EAAAABHNCSVQICAgIfAhkiAAAAAlwSFlzAAALEgAACxIB0t1+/AAAADl0RVh0U29mdHdhcmUAbWF0cGxvdGxpYiB2ZXJzaW9uIDIuMi40LCBodHRwOi8vbWF0cGxvdGxpYi5vcmcv7US4rQAAHnZJREFUeJzt3XuYHVWd7vHvS5AhQBqRxLFJCOESLg1C8LQMeBlxBAUEgk6EgDhewKCC6FGZg6KA4BnnoCIw4mhEB+QQCJcZEjRcRBFQuYWhgaQRjVxCQpCAkHAVwd/8UdWw2enuXSu9q3d17/fzPP2kqvbatX9FJy+rqnatpYjAzMyKWafVBZiZjSQOTTOzBA5NM7MEDk0zswQOTTOzBA5NM7MEDk0zswQOTSuVpAckPSfpaUmPSDpX0kZ1bd4i6ReSnpK0StIVkrrq2nRIOkPS0nxfS/L18QN8riQdK2mRpGckLZN0iaQ3lnm8Nvo5NG04HBARGwHTgF2BL/a9IGkP4BpgHrAZsCVwJ/BrSVvlbdYDfg7sCOwDdABvAR4HdhvgM88EPgMcC7wO2Ba4HHhvavGS1k19j41iEeEf/5T2AzwA7FWzfhrw05r1G4Hv9vO+K4Ef58tHAn8ENir4mVOBl4DdBmnzS+DImvWPAL+qWQ/gaOD3wP3A94Bv1u1jHvC5fHkz4DJgZd7+2Fb/t/dPOT/uadqwkTQJ2BdYkq9vQNZjvKSf5hcDe+fLewFXRcTTBT/qXcCyiLh1aBVzEPB3QBcwBzhEkgAkbQK8G7hI0jrAFWQ95In5539W0nuG+PlWQQ5NGw6XS3oKeAh4FDgp3/46sr+DK/p5zwqg73rlpgO0GUhq+4F8PSL+FBHPkfWIA3h7/toM4KaIeBh4MzAhIk6JiBci4j7gB8DMJtRgFePQtOFwUESMA/YEtueVMHwC+CvQ2c97OoHH8uXHB2gzkNT2A3mobyEiArgIODTfdBhwQb68BbCZpCf7foAvAX/bhBqsYhyaNmwi4nrgXOCb+fozwE3AB/ppfjDZzR+Aa4H3SNqw4Ef9HJgkqXuQNs8AG9Ssv6G/kuvWLwRmSNqC7LT9snz7Q8D9EfHamp9xEbFfwXptBHFo2nA7A9hb0rR8/Xjgw/nXg8ZJ2kTS14A9gK/mbc4nC6bLJG0vaR1Jm0r6kqQ1gikifg98F7hQ0p6S1pO0vqSZko7Pm/UA75e0gaRtgCMaFR4Rd5Dd6DkHuDoinsxfuhVYLen/SBoraYyknSS9eW3+A1m1OTRtWEXESuDHwFfy9V8B7wHeT3Yd8kGyryW9LQ8/IuLPZDeDfgv8DFhNFlTjgVsG+Khjge8AZwNPAn8A3kd2wwbg28ALZHflz+OVU+1GLsxrmVNzTC8BB5B9pep+sssK5wAbF9ynjSDKLtWYmVkR7mmamSVwaJqZJXBompklcGiamSVwaJqZJRhxo7eMHz8+pkyZ0uoyzGyUuf322x+LiAmN2o240JwyZQoLFy5sdRlmNspIerBIO5+em5klcGiamSVwaJqZJXBompklcGiamSVwaJqZJXBompklKC00Jf1I0qOSFg3wuiSdlc9ffZekN5VVi5lZs5TZ0zyXbI7qgexLNtXqVGAW8O8l1mJm1hSlPREUETdImjJIk+lk81oHcLOk10rqjIhmzCJo1lbm3LKUeT3LW11GZXRt1sFJB+xYyr5beU1zIjWz/QHL8m1rkDRL0kJJC1euXDksxZmNJPN6ltO7YnWry2gLrXz2XP1s63fujYiYDcwG6O7u9vwcZv3o6uxg7lF7tLqMUa+VPc1lwOY165OAh1tUi5lZIa0MzfnAP+V30XcHVvl6pplVXWmn55IuBPYExktaBpwEvAYgIr4HLAD2A5YAzwIfLasWM7NmKfPu+aENXg/g6LI+38ysDH4iyMwsgUPTzCyBQ9PMLIFD08wsgUPTzCyBQ9PMLIFD08wsgUPTzCxBKwfsMBsxqj70Wu+K1XR1drS6jLbgnqZZAVUfeq2rs4Pp0/odWdGazD1Ns4I89JqBe5pmZkkcmmZmCRyaZmYJHJpmZgkcmmZmCRyaZmYJHJpmZgkcmmZmCRyaZmYJHJpmZgkcmmZmCRyaZmYJHJpmZgkcmmZmCRyaZmYJHJpmZgkcmmZmCRyaZmYJHJpmZgkcmmZmCRyaZmYJHJpmZgkcmmZmCRyaZmYJHJpmZgkcmmZmCdZtdQFmrTLnlqXM61leqG3vitV0dXaUXJGNBO5pWtua17Oc3hWrC7Xt6uxg+rSJJVdkI4F7mtbWujo7mHvUHq0uw0aQUnuakvaRdK+kJZKO7+f1yZKuk3SHpLsk7VdmPWZmQ1VaaEoaA5wN7At0AYdK6qpr9mXg4ojYFZgJfLeseszMmqHMnuZuwJKIuC8iXgAuAqbXtQmg7+r6xsDDJdZjZjZkZV7TnAg8VLO+DPi7ujYnA9dI+jSwIbBXifWYmQ1ZmT1N9bMt6tYPBc6NiEnAfsD5ktaoSdIsSQslLVy5cmUJpZqZFVNmaC4DNq9Zn8Sap99HABcDRMRNwPrA+PodRcTsiOiOiO4JEyaUVK6ZWWNlhuZtwFRJW0paj+xGz/y6NkuBdwFI2oEsNN2VNLPKKi00I+JF4BjgauAesrvkiyWdIunAvNnngY9LuhO4EPhIRNSfwpuZVUapX26PiAXAgrptJ9Ys9wJvLbMGM7Nm8mOUZmYJHJpmZgn87LlVWspIRKk8cpGtDfc0rdJSRiJK5ZGLbG24p2mV55GIrErc0zQzS+DQNDNL4NA0M0vg0DQzS9DwRpCkPYDDgbcDncBzwCLgp8D/j4hVpVZoZlYhg/Y0JV0JHEn2/Pg+ZKHZRTbi+vrAvJrnyM3MRr1GPc0PRcRjddueBv47//mWpDWGcjMzG60G7WnWBqakLSTtlS+PlTSuvo2Z2WhX6EaQpI8DlwLfzzdNAi4vqygzs6oqevf8aLIh3FYDRMTvgdeXVZSZWVUVDc0/5zNKAiBpXdac78fMbNQrGprXS/oSMFbS3sAlwBXllWVmVk1FB+w4nmwStLuBo4AFEfGD0qqyUS1luDcP32ZVU7Sn+emI+EFEfCAiZkTEDyR9ptTKbNRKGe7Nw7dZ1RTtaX4YOLNu20f62WZWiId7s5Fq0NCUdChwGLClpNrpd8cBj5dZmJlZFTXqaf4GWAGMB75Vs/0p4K6yijIzq6pBQzMiHgQeBHweZWZG8SeCdpd0m6SnJb0g6SVJ5UzcYmZWYUXvnn8HOBT4PTCWbOSjfyurKDOzqio8sVpELJE0JiJeAv5D0m9KrMvMrJKKhuazktYDeiSdRnZzaMPyyjIzq6aip+cfytseAzwDbA78Y1lFmZlVVaGeZn4XHeB54KsAkt4KLCmpLjOzSmr05fYxwMHAROCqiFgkaX/gS2Q3hHYtv0Qzs+po1NP8Idmp+K3AWZL6vrN5fER4EGIzazuNQrMb2Dki/ippfeAxYJuIeKT80szMqqdRaL4QEX8FiIjnJf3OgdneUoZ1G4iHe7ORrFFobi+p7xlzAVvn6wIiInYutTqrnL5h3YYSeh7uzUayRqG5w7BUYSOKh3WzdlZkwA4zM8sV/XK7mZnh0DQzS1I4NCWNlbRdmcWYmVVd0fE0DwB6gKvy9Wl101+YmbWFoj3Nk4HdgCcBIqIHmNLoTZL2kXSvpCWSjh+gzcGSeiUtljSnYD1mZi1RdGi4FyNilaTCO86fWz8b2BtYBtwmaX5E9Na0mQp8EXhrRDwh6fXFSzczG35Fe5qLJB0GjJE0VdK/kU26NpjdgCURcV9EvABcBEyva/Nx4OyIeAIgIh5NqN3MbNgVDc1PAzsCfwbmAKuAzzZ4z0TgoZr1Zfm2WtsC20r6taSbJe1TsB4zs5Yoenq+XUScAJyQsO/+zuWjn8+fCuwJTAJulLRTRDz5qh1Js4BZAJMnT04owcysuYr2NE+X9FtJp0raseB7lpENK9dnEvBwP23mRcRfIuJ+4F6yEH2ViJgdEd0R0T1hwoSCH29m1nxFR25/p6Q3kA1IPFtSBzA3Ir42yNtuA6ZK2hJYDswEDqtrcznZLJfnShpPdrp+X+IxtIVmjC7UDB6hyNpd4S+3R8QjEXEW8Amy72ye2KD9i2RzCl0N3ANcHBGLJZ0i6cC82dXA45J6geuA4yLi8bU4jlGvb3ShVvMIRdbuCvU0Je0AHALMAB4nuxP++Ubvi4gFwIK6bSfWLAfwufzHGvDoQmatV/RG0H8AFwLvjoj665JmZm2j6DXN3csuxMxsJGg0G+XFEXGwpLt59deFPHK7mbWlRj3Nz+R/7l92IWZmI8Ggd88jYkW++KmIeLD2B/hU+eWZmVVL0a8c7d3Ptn2bWYiZ2UjQ6JrmJ8l6lFvVzEoJMA74dZmFmZlVUaNrmnOAK4GvA7XjYT4VEX8qrSozs4pqFJoREQ9IOrr+BUmvc3CaWbsp0tPcH7id7CtHtSMXBbBVSXWZmVVSo3nP98//3HJ4yjEzq7aiE6u9VdKG+fLhkk6X5IEtzaztFH32/N+BXSTtAvwz8EPgfOAdZRXWDlKGe/OQbGbVUPR7mi/mIxJNB86MiDPJvnZkQ5Ay3JuHZDOrhqI9zackfRH4EPD2fKbJ15RXVvvwcG9mI0vRnuYhZJOqfSwiHiGbIO0bpVVlZlZRhUIzD8oLgI0l7Q88HxE/LrUyM7MKKnr3/GDgVuADZPME3SJpRpmFmZlVUdFrmicAb46IRwEkTQCuBS4tqzAzsyoqek1znb7AzD2e8F4zs1GjaE/zKklXk80TBNmNoQWDtDczG5WKzhF0nKT3A28je/58dkT8V6mVmZlVUMPQlHQQsA1wd0R4ql0za2uDXpeU9F3gfwObAqdK+sqwVGVmVlGNepp/D+wSES9J2gC4ETi1/LLMzKqp0R3wFyLiJYCIeJZXj6dpZtZ2GvU0t6+ZG0jA1vm65z03s7bUKDR3GJYqzMxGiEYjtz84XIWYmY0EfqrHzCyBQ9PMLEHh0JQ0VtJ2ZRZjZlZ1RYeGOwDoAa7K16dJml9mYWZmVVS0p3kysBvwJEBE9ABTyinJzKy6UiZWW1VqJWZmI0DRoeEWSToMGCNpKnAs8JvyyjIzq6aiPc1PAzuSTa52IbAa+GxZRZmZVVXR8TSfJZvy4oR8+t4NI+L5UiszM6ugonfP50jqkLQhsBi4V9Jx5ZZmZlY9RU/PuyJiNXAQ2TQXk4EPlVaVmVlFFQ3N10h6DVlozouIvwBRXllmZtVU9O7594EHgDuBGyRtQXYzaFCS9gHOBMYA50TEvw7QbgZwCdk0wQsL1jRs5tyylHk9y5u+394Vq+nq7Gj6fs2sPIV6mhFxVkRMjIj9IvMg8M7B3pPfMDob2BfoAg6V1NVPu3FkX2G6Jbn6YTKvZzm9Kxr+PyJZV2cH06dNbPp+zaw8g/Y0JTWaSO30QV7bDVgSEffl+7oImA701rU7FTgN+EKDz2qprs4O5h61R6vLMLMWa9TTHNfgZzATgYdq1pfl214maVdg84j4SULNZmYt02gQ4q8OYd/9zSf08s0jSesA3wY+0nBH0ixgFsDkyZOHUJKZ2dAUuhEkaX3gCLKngtbv2x4RHxvkbcuAzWvWJwEP16yPA3YCfikJ4A3AfEkH1t8MiojZwGyA7u5u37U3s5Yp+pWj88lC7T3A9WQB+FSD99wGTJW0paT1gJnAy8PJRcSqiBgfEVMiYgpwM7BGYJqZVUnR0NwmIr4CPBMR5wHvBd442Bsi4kXgGOBq4B7g4ohYLOkUSQcOpWgzs1Yp+j3Nv+R/PilpJ+ARCoynGRELyJ4gqt124gBt9yxYi5lZyxQNzdmSNgG+THaKvRHwldKqMjOrqKKjHJ2TL94AbFVeOWZm1TboNU1J59Ysf7j0aszMKq7RjaBdapY/U2YhZmYjQaPQ9HcizcxqNLqmOUnSWWRP9/Qtvywiji2tMjOzCmoUmrWjs/tL52bW9ho9e37ecBViZjYSNLp7Pjv/Mnt/r20o6WOSPlhOaWZm1dPo9Py7wImS3ggsAlaSDdgxFegAfgRcUGqFZmYV0uj0vAc4WNJGQDfQCTwH3BMR9w5DfWZmlVL0iaCngV+WW4qZWfUVHeXIzMxwaJqZJVnr0Myn8TUzaysNQ1PSHpJmSHp9vr6zpDnAr0qvzsysYhp9T/MbZF8r+kfgp5JOAn5GNkf51PLLMzOrlkZ3z98L7BoRz+eDED8M7BwRvy+/NDOz6ml0ev5cRDwPEBFPAPc6MM2snTXqaW4tqW8GSQFTataJCE+QZmZtpVFoTq9b/2ZZhVTBnFuWMq9n+Rrbe1espquzowUVmVnVNHqM8npJuwJbA4sj4p7hKas15vUs7zcguzo7mD5tYouqMrMqGTQ0JZ0IHA7cDpwm6esR8YNhqaxFujo7mHvUHq0uw8wqqtHp+SHAtIh4VtKmwFXAqA5NM7PBNLp7/nxEPAsQEY8XaG9mNqql3j3f2nfPzayd+e65mVmCRqF5f0QsHZZKzMxGgEbXKC/vW5B0Wcm1mJlVXqPQVM3yVmUWYmY2EjQKzRhg2cysLTW6prmLpNVkPc6x+TL5ekSEny00s7bS6DHKMcNViJnZSOAvq5uZJXBompklcGiamSVwaJqZJXBompklcGiamSVwaJqZJSg1NCXtI+leSUskHd/P65+T1CvpLkk/l7RFmfWYmQ1VaaEpaQxwNrAv0AUcKqmrrtkdQHdE7AxcCpxWVj1mZs1QZk9zN2BJRNwXES8AF1E3PmdEXNc3MjxwMzCpxHrMzIaszNCcCDxUs74s3zaQI4ArS6zHzGzIGg3YMRTqZ1u/IyVJOhzoBt4xwOuzgFkAkydPblZ9ZmbJyuxpLgM2r1mfBDxc30jSXsAJwIER8ef+dhQRsyOiOyK6J0yYUEqxZmZFlBmatwFTJW0paT1gJjC/toGkXYHvkwXmoyXWYmbWFKWFZkS8CBwDXA3cA1wcEYslnSKpbxbLbwAbAZdI6qmd6dLMrIrKvKZJRCwAFtRtO7Fmea8yP9/MrNlKDc2qmnPLUub1LF9je++K1XR1ejB6MxtYWz5GOa9nOb0rVq+xvauzg+nTBvtWlJm1u7bsaUIWkHOP2qPVZZjZCNOWPU0zs7Xl0DQzS+DQNDNL4NA0M0vg0DQzS+DQNDNL4NA0M0vg0DQzS+DQNDNL4NA0M0vg0DQzS+DQNDNL4NA0M0vg0DQzS+DQNDNL4NA0M0vg0DQzS+DQNDNL4NA0M0vg0DQzS+DQNDNL4NA0M0vg0DQzS+DQNDNL4NA0M0vg0DQzS+DQNDNL4NA0M0vg0DQzS+DQNDNL4NA0M0vg0DQzS+DQNDNL4NA0M0vg0DQzS+DQNDNL4NA0M0vg0DQzS1BqaEraR9K9kpZIOr6f1/9G0tz89VskTSmzHjOzoSotNCWNAc4G9gW6gEMlddU1OwJ4IiK2Ab4N/L+y6jEza4Z1S9z3bsCSiLgPQNJFwHSgt6bNdODkfPlS4DuSFBHRrCK+esVieh9e/aptvStW09XZ0ayPMLM2Uubp+UTgoZr1Zfm2fttExIvAKmDT+h1JmiVpoaSFK1euHHJhXZ0dTJ9WX4qZWWNl9jTVz7b6HmSRNkTEbGA2QHd3d1Iv9KQDdkxpbmY2qDJ7msuAzWvWJwEPD9RG0rrAxsCfSqzJzGxIygzN24CpkraUtB4wE5hf12Y+8OF8eQbwi2ZezzQza7bSTs8j4kVJxwBXA2OAH0XEYkmnAAsjYj7wQ+B8SUvIepgzy6rHzKwZyrymSUQsABbUbTuxZvl54ANl1mBm1kx+IsjMLIFD08wsgUPTzCyBQ9PMLIFD08wsgUPTzCyBQ9PMLIFG2gM4klYCDya+bTzwWAnlDLfRchzgY6mq0XIsa3McW0TEhEaNRlxorg1JCyOiu9V1DNVoOQ7wsVTVaDmWMo/Dp+dmZgkcmmZmCdolNGe3uoAmGS3HAT6Wqhotx1LacbTFNU0zs2Zpl56mmVlTjKrQHC1TBhc4js9J6pV0l6SfS9qiFXUW0ehYatrNkBSSKnvntsixSDo4/90sljRnuGssosDfr8mSrpN0R/53bL9W1FmEpB9JelTSogFel6Sz8mO9S9KbhvyhETEqfsgGOv4DsBWwHnAn0FXX5lPA9/LlmcDcVte9lsfxTmCDfPmTVTyOoseStxsH3ADcDHS3uu4h/F6mAncAm+Trr2913Wt5HLOBT+bLXcADra57kOP5e+BNwKIBXt8PuJJsPrLdgVuG+pmjqaf58pTBEfEC0DdlcK3pwHn58qXAuyT1N7lbKzU8joi4LiKezVdvJpt/qYqK/E4ATgVOA54fzuISFTmWjwNnR8QTABHx6DDXWESR4wigb47rjVlzbq/KiIgbGHxesenAjyNzM/BaSZ1D+czRFJpNmzK4xYocR60jyP5PWkUNj0XSrsDmEfGT4SxsLRT5vWwLbCvp15JulrTPsFVXXJHjOBk4XNIyspkXPj08pZUi9d9TQ6VOdzHMmjZlcIsVrlHS4UA38I5SK1p7gx6LpHWAbwMfGa6ChqDI72VdslP0Pcl6/zdK2ikiniy5thRFjuNQ4NyI+JakPcjm8dopIv5afnlN1/R/86OppzlapgwuchxI2gs4ATgwIv48TLWlanQs44CdgF9KeoDsmtP8it4MKvr3a15E/CUi7gfuJQvRKilyHEcAFwNExE3A+mTPco9Ehf49pRhNoTlapgxueBz5Ke33yQKzitfN+gx6LBGxKiLGR8SUiJhCdn32wIhY2JpyB1Xk79flZDfpkDSe7HT9vmGtsrEix7EUeBeApB3IQnPlsFbZPPOBf8rvou8OrIqIFUPaY6vvfjX5Ttp+wO/I7g6ekG87hewfImS//EuAJcCtwFatrnktj+Na4I9AT/4zv9U1r+2x1LX9JRW9e17w9yLgdKAXuBuY2eqa1/I4uoBfk91Z7wHe3eqaBzmWC4EVwF/IepVHAJ8APlHzOzk7P9a7m/H3y08EmZklGE2n52ZmpXNompklcGiamSVwaJqZJXBompklcGiamSVwaLYRSZtK6sl/HpG0vGY98j8XSbpE0gb5e16q2X6FpNcOsO+xkq6XtEvNPv8k6f58+doSjudISSvz/d8j6WNrsY/NJc3Nl99U+7y4pPdJOq7Jdf5W0rEF3vMP+ZexG7U7SNJXhlqjFefvabYpSScDT0fEN/P1pyNio3z5AuD2iDi9bvt5wO8i4v/2s7+jgXUj4syabecCP4mIS/tpv25kg6YM5RiOBHaKiM9KegOwCNg+ItZqCtra/Q2lrgZ1TiB7vHLHGOTJFElfAx6LiDMa7Ftkw9HtHhFVHiVq1HBP0/pzI7BNP9tvYuARYj4IzBtsp5L2knStpIuAOyRtI6mn5vXjJX05X54q6WpJt0u6QdK2g+07Ih4BHgAmSxovaX4+6OxvJO2U7/MfJN2Z9/j+W9KGfTVIGgucCHwwX5+R9xDPkPS6vMesfD8bSVoqad21qHMl2aOVnfm+pisbEPsOSddIer2krYEjgePyWt4i6W8l/aekhZJu7euFRtbruZHsKR8bBg5NexVlA5nsS/bIWe32MWTPI9c/p0z+DPNWEfFAgY/YHfjniHhjg3azgU9FxP8Cvgh8p0Hd2wBbkAXSqWSDze5MNszZuXmz44BZETGNbPDal3tmEfEc2aOEF0TEtNrecUT8iezRyLflm6YDC/KecmqdU8gGAu4bafwGsl7irsB/Ap+PiD8A5wDfyGv5DXAWcFpkc3kfnL/eZyHw9sE+15pnNA0NZ0MztqbXdyPww7rtU4DbgZ/1897xQNHhz26KiKWDNcivm+4OXKZXxoge6O/qByW9A3gBODIinpT0NuC9ABFxjaRzJW1I9jz1GcqmobgsIp5W8TGo5wKHkP23mQmcvhZ17g1sB3w0sgGAASYDF+eXF/6G7Jnw/uwFbFfzOZtIGpuH/aPAZkUPxIbGoWl9nst7YP1ul7Qx8BPgaLJez6vakA2GUsQzNcsv8uqznfXzbSK7ntdfPfUu6OcaZH0SCiAiviZpPlmg3iZpT4qPrXg5cIqkk4A3AteTDS2YVGce6PMlXR3ZCFVnA/8SEQuUDfc30DxKAnarCdta65P9DmwY+PTcComIVcCxwBckvabutSeAMZKKBmefR4DNJG2Sv7evd/gEsELS+yAbrFjSLgn7vYHsGmvfuKPLIuIZSVtHxF0R8XWymyfb1b3vKbIxPtcQEavz95xBNqrUX9emzoj4FdnIPH2joW8MLM+vl364pml9LdeS/Q+L/LNqg3pbXjndt5I5NK2wiLiDbLiwmf28fA2vXPMrur/ngX8hG+NxPtl1wz4zgU9IuhNYDOyfsOsTgbdIuovsOuVH8+1fUPbVqbvILidcU/e+XwC75DdlZvSz37nA4fmfQ6nzX4Ej80sGJwP/RdZz/WNNm3nAwXktbyELzLfmN7d6yeYj6vNOsmkpbBj4K0fWFMoGRv5cRHyo1bW0E0mbkU1N8e5W19Iu3NO0psh7odfld9lt+GwOfKHVRbQT9zTNzBK4p2lmlsChaWaWwKFpZpbAoWlmlsChaWaW4H8A2ffv6/dowTIAAAAASUVORK5CYII=\n",
      "text/plain": [
       "<Figure size 360x360 with 1 Axes>"
      ]
     },
     "metadata": {
      "needs_background": "light"
     },
     "output_type": "display_data"
    },
    {
     "name": "stdout",
     "output_type": "stream",
     "text": [
      "Area Under ROC for test set: 0.74\n",
      "Area under PR for test set: 0.49\n",
      "Accuracy for test set: 0.74\n"
     ]
    }
   ],
   "source": [
    "# Get predictions using test set and get metrics and plot ROC curve - logistic regression clasifier\n",
    "\n",
    "preds_lr = lr_model.transform(test)\n",
    "get_metrics(preds_lr)"
   ]
  },
  {
   "cell_type": "code",
   "execution_count": 193,
   "metadata": {},
   "outputs": [
    {
     "name": "stdout",
     "output_type": "stream",
     "text": [
      "Random forest model training done. Took 1.50 minutes.\n",
      "\n"
     ]
    }
   ],
   "source": [
    "# Train the model - random forest\n",
    "\n",
    "bigtic = time.time()\n",
    "\n",
    "rf = RandomForestClassifier()\n",
    "rf_model = rf.fit(train)\n",
    "\n",
    "bigtoc = time.time()\n",
    "\n",
    "print(f'Random forest model training done. Took {((bigtoc-bigtic)/60):.2f} minutes.\\n')"
   ]
  },
  {
   "cell_type": "code",
   "execution_count": 194,
   "metadata": {},
   "outputs": [
    {
     "data": {
      "image/png": "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\n",
      "text/plain": [
       "<Figure size 360x360 with 1 Axes>"
      ]
     },
     "metadata": {
      "needs_background": "light"
     },
     "output_type": "display_data"
    },
    {
     "name": "stdout",
     "output_type": "stream",
     "text": [
      "Area Under ROC for test set: 0.77\n",
      "Area under PR for test set: 0.66\n",
      "Accuracy for test set: 0.76\n"
     ]
    }
   ],
   "source": [
    "# Get predictions using test set and get metrics and plot ROC curve - random forest classifier\n",
    "\n",
    "preds_rf = rf_model.transform(test)\n",
    "get_metrics(preds_rf)"
   ]
  },
  {
   "cell_type": "code",
   "execution_count": 195,
   "metadata": {},
   "outputs": [
    {
     "name": "stdout",
     "output_type": "stream",
     "text": [
      "Gradient boosted model training done. Took 1.92 minutes.\n",
      "\n"
     ]
    }
   ],
   "source": [
    "# Train the model - random forest\n",
    "\n",
    "bigtic = time.time()\n",
    "\n",
    "gbt = GBTClassifier()\n",
    "gbt_model = gbt.fit(train)\n",
    "\n",
    "bigtoc = time.time()\n",
    "\n",
    "print(f'Gradient boosted model training done. Took {((bigtoc-bigtic)/60):.2f} minutes.\\n')"
   ]
  },
  {
   "cell_type": "code",
   "execution_count": 196,
   "metadata": {},
   "outputs": [
    {
     "data": {
      "image/png": "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\n",
      "text/plain": [
       "<Figure size 360x360 with 1 Axes>"
      ]
     },
     "metadata": {
      "needs_background": "light"
     },
     "output_type": "display_data"
    },
    {
     "name": "stdout",
     "output_type": "stream",
     "text": [
      "Area Under ROC for test set: 0.67\n",
      "Area under PR for test set: 0.57\n",
      "Accuracy for test set: 0.74\n"
     ]
    }
   ],
   "source": [
    "# Get predictions using test set, get metrics and plot ROC curve - gradient boosted classifier\n",
    "\n",
    "preds_gbt = gbt_model.transform(test)\n",
    "get_metrics(preds_gbt)"
   ]
  },
  {
   "cell_type": "markdown",
   "metadata": {},
   "source": [
    "## Model tuning and cross validation\n",
    "\n",
    "1. Hyperparameters were tuned and the best parameters were selected\n",
    "\n",
    "Because the Random Forest classifier had the highest AUC values, it was chosen as the final classifier. The hyperparameter tuning was conducted in grid search to optimize the model architecture. The three hyperparameters, impurity, the number of trees, and maximum depth were set up and the ranges for the hyperparameters were set while taking into account the small sample size. For each combination of those parameters, the model was trained and the best performing model was identified\n",
    "\n",
    "2. The final model was cross validated\n",
    "\n",
    "To evaluate the estimator performance and to ensure the final trained model works well with new data, cross validation was performed. Because the sample size was small (n = 225), 3-fold cross validation was selected. This is better than having a single randome train/test split by reducing the variance in the results. Additionally, the precision of cross validation estimates improves as more cases are tested. This was a critical step to ensure that the final model would be robust enough to work well with unseen data."
   ]
  },
  {
   "cell_type": "code",
   "execution_count": 241,
   "metadata": {},
   "outputs": [
    {
     "name": "stdout",
     "output_type": "stream",
     "text": [
      "Final random forest model training/testing done. Took 8.234045219421386 minutes.\n",
      "\n"
     ]
    }
   ],
   "source": [
    "# Initiate the model \n",
    "rf_final = RandomForestClassifier(labelCol = 'label', featuresCol ='features')\n",
    "\n",
    "# Set evaluator\n",
    "evaluator_rf = BinaryClassificationEvaluator()\n",
    "\n",
    "# Set parameters\n",
    "paramGrid_rf = ParamGridBuilder() \\\n",
    "                .addGrid(rf_final.impurity, ['entropy','gini']) \\\n",
    "                .addGrid(rf_final.numTrees, [10, 20, 50]) \\\n",
    "                .addGrid(rf_final.maxDepth, [2, 5, 10]) \\\n",
    "                .build()    \n",
    "    \n",
    "crossval_rf = CrossValidator(estimator = rf_final,\n",
    "                          evaluator = evaluator_rf, \n",
    "                          estimatorParamMaps = paramGrid_rf,\n",
    "                          numFolds = 3)\n",
    "\n",
    "\n",
    "# Train the model\n",
    "\n",
    "bigtic = time.time()\n",
    "\n",
    "cv_rf = crossval_rf.fit(train)\n",
    "\n",
    "# Get predictions\n",
    "preds_cv_rf = cv_rf.transform(test)\n",
    "\n",
    "bigtoc = time.time()\n",
    "\n",
    "print('Final random forest model training/testing done. Took ' + str((bigtoc-bigtic)/60) + ' minutes.\\n')"
   ]
  },
  {
   "cell_type": "code",
   "execution_count": null,
   "metadata": {},
   "outputs": [],
   "source": [
    "# Initiate the model \n",
    "rf_final = RandomForestClassifier(labelCol = 'label', featuresCol ='features')\n",
    "\n",
    "# Set evaluator\n",
    "evaluator_rf = BinaryClassificationEvaluator()\n",
    "\n",
    "# Set parameters\n",
    "paramGrid_rf = ParamGridBuilder() \\\n",
    "                .addGrid(rf_final.impurity, ['entropy','gini']) \\\n",
    "                .addGrid(rf_final.numTrees, [10, 20, 50]) \\\n",
    "                .addGrid(rf_final.maxDepth, [2, 5, 10]) \\\n",
    "                .build()    \n",
    "    \n",
    "crossval_rf = CrossValidator(estimator = rf_final,\n",
    "                          evaluator = evaluator_rf, \n",
    "                          estimatorParamMaps = paramGrid_rf,\n",
    "                          numFolds = 3)\n",
    "\n",
    "\n",
    "# Train the model\n",
    "cv_rf = crossval_rf.fit(train)\n",
    "\n",
    "# Get predictions\n",
    "preds_cv_rf = cv_rf.transform(test)\n"
   ]
  },
  {
   "cell_type": "code",
   "execution_count": 242,
   "metadata": {},
   "outputs": [
    {
     "name": "stdout",
     "output_type": "stream",
     "text": [
      "Best model parameters for the final random forest model are:\n",
      "\n",
      "Impurity: gini\n",
      "Number of Trees: 10\n",
      "Max Depth: 5\n"
     ]
    }
   ],
   "source": [
    "# Best parameters for the final random forest model\n",
    "\n",
    "print(f'Best model parameters for the final random forest model are:\\n')\n",
    "print(f'Impurity: {cv_rf.bestModel._java_obj.getImpurity()}')\n",
    "print(f'Number of Trees: {cv_rf.bestModel._java_obj.getNumTrees()}')\n",
    "print(f'Max Depth: {cv_rf.bestModel._java_obj.getMaxDepth()}')"
   ]
  },
  {
   "cell_type": "code",
   "execution_count": 198,
   "metadata": {},
   "outputs": [
    {
     "data": {
      "image/png": "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\n",
      "text/plain": [
       "<Figure size 360x360 with 1 Axes>"
      ]
     },
     "metadata": {
      "needs_background": "light"
     },
     "output_type": "display_data"
    },
    {
     "name": "stdout",
     "output_type": "stream",
     "text": [
      "Area Under ROC for test set: 0.79\n",
      "Area under PR for test set: 0.61\n",
      "Accuracy for test set: 0.76\n"
     ]
    }
   ],
   "source": [
    "# Get predictions using test set, get metrics and plot ROC curve for a tuned random forest model\n",
    "\n",
    "get_metrics(preds_cv_rf)"
   ]
  },
  {
   "cell_type": "code",
   "execution_count": 283,
   "metadata": {},
   "outputs": [
    {
     "name": "stdout",
     "output_type": "stream",
     "text": [
      "Feature importance:\n",
      "\n",
      "             feature  importance\n",
      "8     duration_days    0.250310\n",
      "0     avg_num_songs    0.199735\n",
      "4       num_friends    0.125548\n",
      "3  num_thumbs_downs    0.115439\n",
      "2    num_thumbs_ups    0.112518\n",
      "1        avg_length    0.077399\n",
      "6        num_errors    0.063930\n",
      "5         num_helps    0.051228\n",
      "7    num_downgrades    0.003892\n"
     ]
    }
   ],
   "source": [
    "# Create a df for feature importance\n",
    "\n",
    "feature_names = ['avg_num_songs', 'avg_length', 'num_thumbs_ups', 'num_thumbs_downs', 'num_friends',\\\n",
    "                'num_helps', 'num_errors', 'num_downgrades', 'duration_days']\n",
    "\n",
    "feature_imps = list(cv_rf.bestModel.featureImportances.values)\n",
    "feature_dict = dict(zip(feature_names, feature_imps)) \n",
    "feature_df = pd.DataFrame(list(feature_dict.items()), columns=['feature', 'importance']).sort_values('importance', ascending = False)\n",
    "\n",
    "print(f'Feature importance:\\n\\n {feature_df}')"
   ]
  },
  {
   "cell_type": "code",
   "execution_count": 290,
   "metadata": {},
   "outputs": [
    {
     "data": {
      "image/png": "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\n",
      "text/plain": [
       "<Figure size 576x432 with 1 Axes>"
      ]
     },
     "metadata": {
      "needs_background": "light"
     },
     "output_type": "display_data"
    }
   ],
   "source": [
    "# Plot feature importance\n",
    "\n",
    "plt.figure(figsize=(8, 6))\n",
    "plt.xticks(rotation = 45) \n",
    "ax12 = sns.barplot(x = 'feature', y = 'importance', data = feature_df)\n",
    "ax12.set(xlabel = 'Features', ylabel = 'Importance', title = 'Feature Importance Ranking')\n",
    "plt.show();"
   ]
  },
  {
   "cell_type": "markdown",
   "metadata": {},
   "source": [
    "## Model improvement\n",
    "\n",
    "The ROC-AUC value of 0.79 is not excellent but acceptable, considering a small sample size. It is possible that the final model is underfitting, but it can be improved by adding more data points. However, the class imbalance was much more pronounced in the larger dataset, which can make model training more difficult and need other techniques such as oversampling. This may also lead to a different classifier performing better than the Random Forest model.\n",
    "Actually, I tried to use a larger dataset to scale up by using the code tested on a small dataset; however, for some reason, model training failed. As mentioned above, using Spark on the AWS EMR cluster was not as fast as I expected. In fact, it was sometimes very slow. A simple command such as \"head( )\" took several minutes to display the data from the dataframe. I'm unsure if it was due to some sort of memory issue or something else. In general, it was actually faster when I worked within a local environment using python. I would like to have another opportunity to fully understand how Spark can be a preferred tool for big data manipulation.\n",
    "To improve the implementation of model building and performance, I can increase the number of features, including categorical variables, that are more likely to vary between customers who churned and those who stayed or try a different classifier. I can also include more parameters in grid search for optimal model performance. Overfitting could be a problem so I need to find a place where the model performs well not just on the given data but also on the unseen data. Examining patterns for customer behavior in various contexts and conditions, possibly merging with other available datasets for the customers if available, could eventually help build a better model.\n"
   ]
  },
  {
   "cell_type": "markdown",
   "metadata": {},
   "source": [
    "## Conclusion and reflection\n",
    "\n",
    "To predict the churn rates of customers who use the online music app, user demographic and online site event data were explored and preprocessed for analyses. Then, the three machine learning models were built and trained. The results among the three models were compared to select the best performing model. AUC (Area Under Curve) for ROC and PR, as well as accuracy, were used to evaluate model performance, with AUC values primarily used due to class imbalance on churn rates. The random forest model performed best and was further tuned, which resulted in increased AUC for ROC and PR through validation with test data.\n",
    "The top 3 features in predicting customer churn were the number of days since registration, the average number of songs listened to per session, and the number of friends added by the customer. The results may suggest that Sparkify could benefit from engaging with customers soon after they register; this could include tactics such as recommending new songs or connecting customers with peer groups to help build loyalty to their music app service. \n",
    "The provided dataset did not include customer feedback to directly indicate why they churned (causes) but instead helped provide insights into identifying factors (symptoms) that aid in prediction of churn rates, as well as ways to improve customer experience. From a business perspective, it could be beneficial to reach out to customers who churned and ask the reasons for cancelling their subscription.\n",
    "Most of my career has been in an academic settings so I have little experience in the industry interfacing with customers. This was an interesting project which allowed me to think about realistic, serious problems faced by businesses. I have always been a customer - this project allowed me to see consumerism from another lens, encouraging me to think like a business person. I let my experience as a customer guide me in selecting promising features and building models - what were the things I value most when I become loyal to certain services? What made me quit certain relationships with businesses?\n",
    "Although the data has been analyzed and a prediction model has been built, the most challenging part is still yet to come. Using these data and analyses results, action plans and strategies to prevent customer churns must now be developed. After all, that is a true goal of all this hard work!"
   ]
  },
  {
   "cell_type": "code",
   "execution_count": null,
   "metadata": {},
   "outputs": [],
   "source": []
  }
 ],
 "metadata": {
  "kernelspec": {
   "display_name": "Python 3",
   "language": "python",
   "name": "python3"
  },
  "language_info": {
   "codemirror_mode": {
    "name": "ipython",
    "version": 3
   },
   "file_extension": ".py",
   "mimetype": "text/x-python",
   "name": "python",
   "nbconvert_exporter": "python",
   "pygments_lexer": "ipython3",
   "version": "3.7.6"
  }
 },
 "nbformat": 4,
 "nbformat_minor": 4
}
